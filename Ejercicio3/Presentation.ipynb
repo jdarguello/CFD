{
 "cells": [
  {
   "cell_type": "markdown",
   "metadata": {},
   "source": [
    "<div align=\"center\">\n",
    "    <h1><strong>Transferencia de Calor 2D - Smith Hutton</strong></h1>\n",
    "    <h2>Juan David Argüello Plata</h2>\n",
    "    <img src=\"Images/uis.png\" style=\"width: 300px;\" />\n",
    "</div>\n",
    "\n",
    "## __1. Planteamiento del Problema__\n",
    "\n",
    "<div align=\"justify\">\n",
    "    Se busca analizar, mediante métodos <i>numéricos</i>, el problema de transferencia de calor desarrollado por Smith Hutton, como se observa en la Figura 1.\n",
    "</div>\n",
    "\n",
    "<br>\n",
    "\n",
    "<div align=\"center\">\n",
    "    <img src=\"Images/smith.png\" style=\"width: 500px;\" />\n",
    "</div>\n",
    "\n",
    "<div align=\"center\">\n",
    "    <i>Figura 1.</i> Geometría del problema.\n",
    "</div>\n",
    "\n",
    "<div align=\"justify\">\n",
    "    Se toman las siguientes suposiciones:\n",
    "</div>\n",
    "\n",
    "* Conductividad térmica constante.\n",
    "* Conducción 2D.\n",
    "* Sin generación.\n",
    "* Campo de velocidades conocido.\n",
    "* Transferencia de calor transitoria.\n",
    "\n",
    "## __2. Datos__\n",
    "\n",
    "<div align=\"justify\">\n",
    "    Los datos del problema se pueden especificar a continuación.\n",
    "</div>"
   ]
  },
  {
   "cell_type": "code",
   "execution_count": 1,
   "metadata": {},
   "outputs": [
    {
     "data": {
      "application/vnd.jupyter.widget-view+json": {
       "model_id": "e21f0de7771b43ec9017a9f95370f8ca",
       "version_major": 2,
       "version_minor": 0
      },
      "text/plain": [
       "Tab(children=(Accordion(children=(FloatText(value=2.0), FloatText(value=1.0)), _titles={'0': 'W', '1': 'H'}), …"
      ]
     },
     "metadata": {},
     "output_type": "display_data"
    }
   ],
   "source": [
    "from App.Data import *\n",
    "datos = Datos()\n",
    "datos"
   ]
  },
  {
   "cell_type": "markdown",
   "metadata": {},
   "source": [
    "### __3. Mallado__\n",
    "\n",
    "<div align=\"justify\">\n",
    "    La formulación del mallado se realiza a partir de una <i>malla escalonada</i>, donde las variables escalares (presión y temperatura) son datos que se almacenan en los nodos, mientras que las velocidades se localizan en las caras de los elementos. Esto se puede apreciar ligeramente en la discretización del dominio desarrollada a través de la ejecución del siguiente algoritmo:\n",
    "</div>"
   ]
  },
  {
   "cell_type": "code",
   "execution_count": 2,
   "metadata": {},
   "outputs": [
    {
     "data": {
      "application/vnd.jupyter.widget-view+json": {
       "model_id": "d9a6bce134124b97ac98719aa2b4da17",
       "version_major": 2,
       "version_minor": 0
      },
      "text/plain": [
       "interactive(children=(IntSlider(value=4, description='xsub', max=14, min=4, step=2), IntSlider(value=4, descri…"
      ]
     },
     "metadata": {},
     "output_type": "display_data"
    }
   ],
   "source": [
    "%matplotlib inline\n",
    "from App.Preprocessing.Mesh import Malla\n",
    "import sqlite3 as sql\n",
    "from ipywidgets import *\n",
    "def Mesh(xsub,ysub, numN = False):\n",
    "    Malla((data['Geometría']['W']/xsub,\n",
    "           data['Geometría']['H']/ysub),\n",
    "           (data['Propiedades']['T_0'],\n",
    "            data['Propiedades']['T_{infty}']),\n",
    "           False,\n",
    "           (numN, False),\n",
    "           data['Geometría'])\n",
    "    #Conexión con base de datos\n",
    "    con = sql.connect('App/data.db')\n",
    "    text = [\"SELECT * FROM \", \" ORDER BY \", \" DESC LIMIT 1\"]\n",
    "    n =  con.execute(text[0]+' nodes '+text[1]+' NodeID '+text[2]).fetchall()\n",
    "    el = con.execute(text[0]+' elements '+text[1]+' ElID '+text[2]).fetchall()\n",
    "    con.close()\n",
    "    display(HTML(\"Número de nodos: \" + str(n[0][0])))\n",
    "    display(HTML(\"Número de elementos: \" + str(el[0][0])))\n",
    "    return data['Geometría']['W']/xsub, data['Geometría']['H']/ysub, xsub, ysub\n",
    "data = Read(datos)\n",
    "ElData = interactive(Mesh,\n",
    "                     xsub=IntSlider(value=4, max=14, min = 4, step=2),\n",
    "                     ysub=IntSlider(value=4, max=14, min = 4, step=2),\n",
    "                     numN = False, \n",
    "                     continous_update=False)\n",
    "display(ElData)"
   ]
  },
  {
   "cell_type": "markdown",
   "metadata": {},
   "source": [
    "### __4. Planteamiento y solución del sistema matricial__\n",
    "\n",
    "<div align=\"justify\">\n",
    "    El planteamiento matricial se desarrolla con base en las siguietes relaciones matemáticas:\n",
    "    $$\n",
    "    \\begin{equation}\n",
    "        a_p T_p = a_E T_E + a_W T_W + a_N T_N + a_S T_S + b\n",
    "        \\tag{3}\n",
    "        \\label{Ts}\n",
    "    \\end{equation}\n",
    "    $$\n",
    "    $$\n",
    "    \\begin{equation}\n",
    "        u = 2y \\left(1-x^2 \\right) \\\\\n",
    "        v = -2x \\left(1-y^2 \\right) \\\\\n",
    "        T_{izq} = 1+tanh(10) (2x+1)\n",
    "    \\end{equation}\n",
    "    $$\n",
    "    Dónde $b$ es la generación de calor y: \n",
    "    $$\n",
    "    \\begin{equation}\n",
    "        a_p = a_E + a_W + a_N + a_S + a_{p0} + \\left(F_E-F_W+F_N-F_S \\right) \\\\\n",
    "        F_E = F_W = \\rho u \\Delta y \\\\\n",
    "        F_N = F_S = \\rho v \\Delta x \\\\\n",
    "        D_E = D_W = K \\frac{\\Delta y}{\\Delta x} \\\\\n",
    "        D_N = D_S = K \\frac{\\Delta x}{\\Delta y} \\\\\n",
    "        a_{p0} = \\rho \\frac{\\Delta x \\Delta y}{\\Delta t} \\\\\n",
    "        b = a_{p0} T _p ^0 + Q_g \\Delta x \\Delta y \\\\\n",
    "        a_E = D_E A_{pE} + max \\left(-F_E,0 \\right) \\\\\n",
    "        a_W = D_W A_{pW} + max \\left(F_W,0 \\right) \\\\\n",
    "        a_N = D_N A_{pN} + max \\left(-F_N,0 \\right) \\\\\n",
    "        a_S = D_S A_{pS} + max \\left(F_S,0 \\right) \\\\\n",
    "        A_{pi} = 1-0.5 \\mid P_i \\mid \\rightarrow \\text{Diferencias centradas} \\\\\n",
    "        A_{pi} = 1 \\rightarrow \\text{Upwind} \\\\\n",
    "        A_{pi} = max \\left(0 \\, , 1-0.5 \\mid P_i \\mid \\right) \\rightarrow \\text{Híbrido} \\\\\n",
    "        P_i = \\frac{F_i}{D_i} = \\frac{\\rho u A_j}{K} \\\\\n",
    "        A_x = \\Delta x \\Delta z \\\\\n",
    "        A_y = \\Delta y \\Delta z \\\\\n",
    "        \\frac{\\rho}{K} = 10^6 \\, o \\, 10^3 \\, o \\, 10\n",
    "    \\end{equation}\n",
    "    $$\n",
    "    Para la malla mostrada anteriormente, el sistema de ecuaciones general es el siguiente:\n",
    "</div>"
   ]
  },
  {
   "cell_type": "code",
   "execution_count": 3,
   "metadata": {},
   "outputs": [
    {
     "name": "stdout",
     "output_type": "stream",
     "text": [
      "IPython console for SymPy 1.4 (Python 3.7.4-32-bit) (ground types: python)\n",
      "\n",
      "These commands were executed:\n",
      ">>> from __future__ import division\n",
      ">>> from sympy import *\n",
      ">>> x, y, z, t = symbols('x y z t')\n",
      ">>> k, m, n = symbols('k m n', integer=True)\n",
      ">>> f, g, h = symbols('f g h', cls=Function)\n",
      ">>> init_printing()\n",
      "\n",
      "Documentation can be found at https://docs.sympy.org/1.4/\n",
      "\n"
     ]
    }
   ],
   "source": [
    "from sympy import init_session\n",
    "init_session(use_latex=True)"
   ]
  },
  {
   "cell_type": "markdown",
   "metadata": {},
   "source": [
    "__Reemplazando__ las ecuaciones anteriores en la Ecuación 3, se obtiene la siguiente relación matemática para la temperatura centroidal:"
   ]
  },
  {
   "cell_type": "code",
   "execution_count": 4,
   "metadata": {},
   "outputs": [
    {
     "data": {
      "image/png": "[encoded data removed]",
      "text/latex": [
       "$\\displaystyle T_{p} = \\frac{Q_{g} \\Delta x \\Delta y + T_{E} \\left(\\frac{A_{pE} K \\Delta y}{\\Delta x} + \\max\\left(0, - \\Delta y \\rho u\\right)\\right) + T_{N} \\left(\\frac{A_{pN} K \\Delta x}{\\Delta y} + \\max\\left(0, - \\Delta x \\rho v\\right)\\right) + T_{S} \\left(\\frac{A_{pS} K \\Delta x}{\\Delta y} + \\max\\left(0, \\Delta x \\rho v\\right)\\right) + T_{W} \\left(\\frac{A_{pW} K \\Delta y}{\\Delta x} + \\max\\left(0, \\Delta y \\rho u\\right)\\right) + \\frac{T^{0}_{p } \\Delta x \\Delta y \\rho}{\\Delta t}}{\\frac{A_{pE} K \\Delta y}{\\Delta x} + \\frac{A_{pN} K \\Delta x}{\\Delta y} + \\frac{A_{pS} K \\Delta x}{\\Delta y} + \\frac{A_{pW} K \\Delta y}{\\Delta x} + \\max\\left(0, - \\Delta x \\rho v\\right) + \\max\\left(0, \\Delta x \\rho v\\right) + \\max\\left(0, - \\Delta y \\rho u\\right) + \\max\\left(0, \\Delta y \\rho u\\right) + \\frac{\\Delta x \\Delta y \\rho}{\\Delta t}}$"
      ],
      "text/plain": [
       "                                 ⎛A_{pE}⋅K⋅\\Delta y                           \n",
       "     Q_g⋅\\Delta x⋅\\Delta y + T_E⋅⎜───────────────── + Max(0, -\\Delta y*\\rho*u)\n",
       "                                 ⎝     \\Delta x                               \n",
       "Tₚ = ─────────────────────────────────────────────────────────────────────────\n",
       "                                 A_{pE}⋅K⋅\\Delta y   A_{pN}⋅K⋅\\Delta x   A_{pS\n",
       "                                 ───────────────── + ───────────────── + ─────\n",
       "                                      \\Delta x            \\Delta y            \n",
       "\n",
       "⎞       ⎛A_{pN}⋅K⋅\\Delta x                           ⎞       ⎛A_{pS}⋅K⋅\\Delta \n",
       "⎟ + T_N⋅⎜───────────────── + Max(0, -\\Delta x*\\rho*v)⎟ + T_S⋅⎜────────────────\n",
       "⎠       ⎝     \\Delta y                               ⎠       ⎝     \\Delta y   \n",
       "──────────────────────────────────────────────────────────────────────────────\n",
       "}⋅K⋅\\Delta x   A_{pW}⋅K⋅\\Delta y                                              \n",
       "──────────── + ───────────────── + Max(0, -\\Delta x*\\rho*v) + Max(0, \\Delta x*\n",
       "\\Delta y            \\Delta x                                                  \n",
       "\n",
       "x                          ⎞       ⎛A_{pW}⋅K⋅\\Delta y                         \n",
       "─ + Max(0, \\Delta x*\\rho*v)⎟ + T_W⋅⎜───────────────── + Max(0, \\Delta y*\\rho*u\n",
       "                           ⎠       ⎝     \\Delta x                             \n",
       "──────────────────────────────────────────────────────────────────────────────\n",
       "                                                               \\Delta x⋅\\Delta\n",
       "\\rho*v) + Max(0, -\\Delta y*\\rho*u) + Max(0, \\Delta y*\\rho*u) + ───────────────\n",
       "                                                                      \\Delta t\n",
       "\n",
       " ⎞   T_p __0⋅\\Delta x⋅\\Delta y⋅\\rho\n",
       ")⎟ + ──────────────────────────────\n",
       " ⎠              \\Delta t           \n",
       "───────────────────────────────────\n",
       " y⋅\\rho                            \n",
       "───────                            \n",
       "                                   "
      ]
     },
     "execution_count": 4,
     "metadata": {},
     "output_type": "execute_result"
    }
   ],
   "source": [
    "from sympy.functions import Min, Max\n",
    "#Creación de símbolos generales\n",
    "a_p, a_S, a_N, a_E, a_W, T_p, T_S, T_N, T_E, T_W, u, v, x, y, a_p0, b, F_S, F_N, F_E, F_W, D_S, D_N, D_E, D_W, Q_g = \\\n",
    "    symbols(\"a_p, a_S, a_N, a_E, a_W, T_p, T_S, T_N, T_E, T_W, u, v, x, y, a_{p0}, b, F_S, F_N, F_E, F_W, D_S, D_N, D_E, D_W, Q_g\")\n",
    "Dx, Dy, Dt, T_p0 = Symbol(\"\\\\Delta x\"), Symbol(\"\\\\Delta y\"), Symbol(\"\\\\Delta t\"), Symbol(\"T_p ^0\")\n",
    "rho, A, K = symbols(\"\\\\rho, A, K\")\n",
    "A_pE, A_pW, A_pN, A_pS = symbols(\"A_{pE}, A_{pW}, A_{pN}, A_{pS}\")\n",
    "\n",
    "#Ecuaciones\n",
    "a_p0 = rho*(Dx*Dy)/Dt\n",
    "D_E = K*(Dy/Dx)\n",
    "D_W = D_E\n",
    "D_N = K*(Dx/Dy)\n",
    "D_S = D_N\n",
    "F_E = rho*u*Dy\n",
    "F_W = rho*u*Dy\n",
    "F_N = rho*v*Dx\n",
    "F_S = rho*v*Dx\n",
    "u = 2*y*(1-x**2)\n",
    "v = -2*x*(1-y**2)\n",
    "b = a_p0*T_p0 + Q_g*Dx*Dy\n",
    "a_E = D_E*A_pE+Max(-F_E,0)\n",
    "a_W = D_W*A_pW+Max(F_W,0)\n",
    "a_S = D_S*A_pS+Max(F_S,0)\n",
    "a_N = D_N*A_pN+Max(-F_N,0)\n",
    "a_p = a_E+a_W+a_S+a_N+a_p0+(F_E-F_W+F_N-F_S)\n",
    "Ec = Eq(T_p, (1/a_p)*(a_E*T_E + a_W*T_W + a_N*T_N + a_S*T_S + b))\n",
    "Ec"
   ]
  },
  {
   "cell_type": "markdown",
   "metadata": {},
   "source": [
    "## __5. Resultados $\\rightarrow$ Postprocesamiento__\n",
    "\n",
    "Los resultados obtenidos se pueden evidenciar a continuación:"
   ]
  },
  {
   "cell_type": "code",
   "execution_count": 5,
   "metadata": {},
   "outputs": [
    {
     "data": {
      "application/vnd.jupyter.widget-view+json": {
       "model_id": "9f2b610927104cb8921679248e92d6b5",
       "version_major": 2,
       "version_minor": 0
      },
      "text/plain": [
       "interactive(children=(RadioButtons(description='Tipo', index=2, options=('Upwind', 'Diferencias Centradas', 'H…"
      ]
     },
     "metadata": {},
     "output_type": "display_data"
    }
   ],
   "source": [
    "%matplotlib inline\n",
    "from ipywidgets import *\n",
    "from App.Solver import Solve\n",
    "#Constantes Generales\n",
    "Cons = {}\n",
    "Cons[Dx], Cons[Dy], Cons[\"xsub\"], Cons[\"ysub\"] = ElData.result\n",
    "Cons[K], Cons[Q_g] = data['Propiedades']['K'], data['Propiedades']['Q_g']\n",
    "Cons[Dt] = data['Propiedades']['Dt']\n",
    "Ec = Ec.subs(Cons)\n",
    "\n",
    "def Solver(Tipo, Peclet, Iteraciones): \n",
    "    Solve(Ec, Tipo, Peclet, data, Cons[Dx], Cons[Dy], Iteraciones, \n",
    "          (data['Geometría']['W'], data['Geometría']['H']), (Cons[\"ysub\"],Cons[\"xsub\"]))\n",
    "\n",
    "ss = interactive(Solver,\n",
    "                Tipo = RadioButtons(options=['Upwind', 'Diferencias Centradas', 'Híbrido'], value='Híbrido'),\n",
    "                Peclet = RadioButtons(options=[10.0, 1000.0, 10E6], value=10),\n",
    "                Iteraciones = IntText(value=5))\n",
    "display(ss)"
   ]
  },
  {
   "cell_type": "code",
   "execution_count": 6,
   "metadata": {},
   "outputs": [
    {
     "data": {
      "text/plain": [
       "array([[0., 0., 0., 0.],\n",
       "       [0., 0., 0., 0.],\n",
       "       [0., 0., 0., 0.],\n",
       "       [0., 0., 0., 0.]])"
      ]
     },
     "execution_count": 6,
     "metadata": {},
     "output_type": "execute_result"
    }
   ],
   "source": [
    "np.zeros((Cons['ysub'], Cons['xsub']))"
   ]
  },
  {
   "cell_type": "code",
   "execution_count": 7,
   "metadata": {},
   "outputs": [
    {
     "data": {
      "text/plain": [
       "{\\Delta x: 0.5,\n",
       " \\Delta y: 0.25,\n",
       " 'xsub': 4,\n",
       " 'ysub': 4,\n",
       " K: 55.0,\n",
       " Q_g: 0.0,\n",
       " \\Delta t: 5.0}"
      ]
     },
     "execution_count": 7,
     "metadata": {},
     "output_type": "execute_result"
    }
   ],
   "source": [
    "Cons"
   ]
  }
 ],
 "metadata": {
  "kernelspec": {
   "display_name": "Python 3",
   "language": "python",
   "name": "python3"
  },
  "language_info": {
   "codemirror_mode": {
    "name": "ipython",
    "version": 3
   },
   "file_extension": ".py",
   "mimetype": "text/x-python",
   "name": "python",
   "nbconvert_exporter": "python",
   "pygments_lexer": "ipython3",
   "version": "3.7.4"
  }
 },
 "nbformat": 4,
 "nbformat_minor": 4
}
