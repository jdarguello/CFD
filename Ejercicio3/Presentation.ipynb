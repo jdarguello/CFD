{
 "cells": [
  {
   "cell_type": "markdown",
   "metadata": {},
   "source": [
    "<div align=\"center\">\n",
    "    <h1><strong>Transferencia de Calor 2D - Smith Hutton</strong></h1>\n",
    "    <h2>Juan David Argüello Plata</h2>\n",
    "    <img src=\"Images/uis.png\" style=\"width: 300px;\" />\n",
    "</div>\n",
    "\n",
    "## __1. Planteamiento del Problema__\n",
    "\n",
    "<div align=\"justify\">\n",
    "    Se busca analizar, mediante métodos <i>analíticos</i> y <i>numéricos</i>, la transferencia de calor de la barra mostrada en la Figura 1.\n",
    "</div>\n",
    "\n",
    "<br>\n",
    "\n",
    "<div align=\"center\">\n",
    "    <img src=\"Images/Esquema_3D/Esquema.PNG\" style=\"width: 500px;\" />\n",
    "</div>\n",
    "\n",
    "<div align=\"center\">\n",
    "    <i>Figura 1.</i> Geometría del problema.\n",
    "</div>\n",
    "\n",
    "<div align=\"justify\">\n",
    "    Se toman las siguientes suposiciones:\n",
    "</div>\n",
    "\n",
    "* Conductividad térmica constante.\n",
    "* Conducción 2D.\n",
    "* Sin generación.\n",
    "* Campo de velocidades conocido.\n",
    "* Transferencia de calor transitoria.\n",
    "\n",
    "<div align=\"justify\">\n",
    "    Los datos del problema se pueden especificar a continuación.\n",
    "</div>"
   ]
  },
  {
   "cell_type": "code",
   "execution_count": 1,
   "metadata": {},
   "outputs": [
    {
     "data": {
      "text/html": [
       "$W= 2m$"
      ],
      "text/plain": [
       "<IPython.core.display.HTML object>"
      ]
     },
     "metadata": {},
     "output_type": "display_data"
    },
    {
     "data": {
      "text/html": [
       "$H= 1m$"
      ],
      "text/plain": [
       "<IPython.core.display.HTML object>"
      ]
     },
     "metadata": {},
     "output_type": "display_data"
    },
    {
     "data": {
      "text/html": [
       "$T_0= 5°C$"
      ],
      "text/plain": [
       "<IPython.core.display.HTML object>"
      ]
     },
     "metadata": {},
     "output_type": "display_data"
    },
    {
     "data": {
      "text/html": [
       "$T_{infty}= 0°C$"
      ],
      "text/plain": [
       "<IPython.core.display.HTML object>"
      ]
     },
     "metadata": {},
     "output_type": "display_data"
    },
    {
     "data": {
      "text/html": [
       "$K= 55W/m \\, °C$"
      ],
      "text/plain": [
       "<IPython.core.display.HTML object>"
      ]
     },
     "metadata": {},
     "output_type": "display_data"
    },
    {
     "data": {
      "text/html": [
       "$h= 10W/m^2 \\, °C$"
      ],
      "text/plain": [
       "<IPython.core.display.HTML object>"
      ]
     },
     "metadata": {},
     "output_type": "display_data"
    },
    {
     "data": {
      "text/html": [
       "$Q_g= 0W/m^3$"
      ],
      "text/plain": [
       "<IPython.core.display.HTML object>"
      ]
     },
     "metadata": {},
     "output_type": "display_data"
    }
   ],
   "source": [
    "data = {\n",
    "    'Geometría': {\n",
    "        'W': {\n",
    "            'Valor':2,\n",
    "            'Units': 'm'\n",
    "        },\n",
    "        'H': {\n",
    "            'Valor': 1,\n",
    "            'Units': 'm'\n",
    "        }\n",
    "    },\n",
    "    'Propiedades': {\n",
    "        'T_0': {\n",
    "            'Valor': 5,\n",
    "            'Units': '°C'\n",
    "        },\n",
    "        'T_{infty}': {\n",
    "            'Valor': 0,\n",
    "            'Units': '°C'\n",
    "        },\n",
    "        'K': {\n",
    "            'Valor': 55,\n",
    "            'Units': 'W/m \\, °C'\n",
    "        },\n",
    "        'h': {\n",
    "            'Valor': 10,\n",
    "            'Units': 'W/m^2 \\, °C'\n",
    "        },\n",
    "        'Q_g': {\n",
    "            'Valor': 0,\n",
    "            'Units': 'W/m^3'\n",
    "        }\n",
    "    }\n",
    "}\n",
    "\n",
    "from IPython.display import HTML, display\n",
    "for c in data:\n",
    "    for d in data[c]: \n",
    "        text = '$' + d + '= ' + str(data[c][d]['Valor']) + '' + data[c][d]['Units'] + '$'\n",
    "        display(HTML(text))"
   ]
  },
  {
   "cell_type": "markdown",
   "metadata": {},
   "source": [
    "## __2. Solución Analítica__\n",
    "\n",
    "<div align=\"justify\">\n",
    "    Se desarrolla el análisis sobre lo mostrado en la Figura 2.\n",
    "</div>\n",
    "\n",
    "<div align=\"center\">\n",
    "    <img src=\"Images/Esquema/Esquema.png\" style=\"width: 600px;\" />\n",
    "</div>\n",
    "\n",
    "<div align=\"center\">\n",
    "    <i>Figura 2.</i> Problema de estudio con condiciones de frontera.\n",
    "</div>\n",
    "\n",
    "<div align=\"justify\">\n",
    "    De la Figura 2, $\\theta$ es la temperatura adimensional y $Bi$ es el número de Biot.\n",
    "    $$\n",
    "    \\begin{equation}\n",
    "        \\theta (x^*,y^*) \\equiv \\frac{T(x,y) - T_{\\infty}}{T_0 - T_{\\infty}}\n",
    "        \\tag{1}\n",
    "        \\label{teta}\n",
    "    \\end{equation}\n",
    "    $$\n",
    "    El número de Biot se puede apreciar en la Ecuación \\ref{Biot}.\n",
    "    $$\n",
    "    \\begin{equation}\n",
    "        Bi = \\frac{h W}{K}\n",
    "        \\tag{2}\n",
    "        \\label{Biot}\n",
    "    \\end{equation}\n",
    "    $$\n",
    "    El análisis se desarrollará con variables adimensionales. \n",
    "    $$\n",
    "    \\begin{equation}\n",
    "        H ^* \\equiv  \\frac{H}{W} \\\\\n",
    "        x ^* \\equiv \\frac{x}{W} \\\\\n",
    "        y ^* \\equiv \\frac{y}{H}\n",
    "    \\end{equation}\n",
    "    $$\n",
    "</div>"
   ]
  },
  {
   "cell_type": "code",
   "execution_count": 2,
   "metadata": {},
   "outputs": [
    {
     "name": "stdout",
     "output_type": "stream",
     "text": [
      "IPython console for SymPy 1.4 (Python 3.7.4-32-bit) (ground types: python)\n",
      "\n",
      "These commands were executed:\n",
      ">>> from __future__ import division\n",
      ">>> from sympy import *\n",
      ">>> x, y, z, t = symbols('x y z t')\n",
      ">>> k, m, n = symbols('k m n', integer=True)\n",
      ">>> f, g, h = symbols('f g h', cls=Function)\n",
      ">>> init_printing()\n",
      "\n",
      "Documentation can be found at https://docs.sympy.org/1.4/\n",
      "\n"
     ]
    }
   ],
   "source": [
    "from sympy import init_session\n",
    "init_session(use_latex=True)"
   ]
  },
  {
   "cell_type": "code",
   "execution_count": null,
   "metadata": {},
   "outputs": [],
   "source": [
    "#Constantes adimensionales\n",
    "H = data['Geometría']['H']['Valor']/data['Geometría']['W']['Valor']\n",
    "Bi = data['Geometría']['W']['Valor']*\\\n",
    "data['Propiedades']['h']['Valor']/data['Propiedades']['K']['Valor']\n",
    "theta_0 = (data['Propiedades']['T_0']['Valor'] - \\\n",
    "           data['Propiedades']['T_{infty}']['Valor'])/\\\n",
    "(data['Propiedades']['T_0']['Valor'] - \\\n",
    "           data['Propiedades']['T_{infty}']['Valor'])\n",
    "\n",
    "#Planteamiento de la ecuación diferencial\n",
    "#thetaX, thetaY = map(Function, 'XY')\n",
    "theta = Function('\\\\theta')\n",
    "Ec = Eq(theta(x,y).diff(x,2) + theta(x,y).diff(y,2),0)\n",
    "Ec"
   ]
  },
  {
   "cell_type": "code",
   "execution_count": null,
   "metadata": {},
   "outputs": [],
   "source": [
    "#Condiciones de frontera\n",
    "bc = {\n",
    "    theta(x,0):theta_0,\n",
    "    theta(x,y).diff(x).subs(x,0): 0,\n",
    "    theta(x,y).diff(y).subs(y,1): 0,\n",
    "    theta(x,y).diff(x).subs(x,1): -Bi*theta(x,y).subs(x,1)\n",
    "}\n",
    "\"\"\"\n",
    "sol = pdsolve(Ec, theta(x,y))\n",
    "sol\n",
    "\"\"\"\n",
    "bc"
   ]
  },
  {
   "cell_type": "markdown",
   "metadata": {},
   "source": [
    "## __3. Solución Numérica__\n",
    "\n",
    "<div align=\"justify\">\n",
    "    La geomtería dada es la siguiente:\n",
    "</div>"
   ]
  },
  {
   "cell_type": "code",
   "execution_count": null,
   "metadata": {},
   "outputs": [],
   "source": [
    "%matplotlib inline\n",
    "from App.Preprocessing.Geometry import *\n",
    "Geo(data['Geometría'], True)"
   ]
  },
  {
   "cell_type": "code",
   "execution_count": 6,
   "metadata": {},
   "outputs": [
    {
     "data": {
      "image/png": "[encoded data removed]",
      "text/latex": [
       "$\\displaystyle 1.9999999958776926$"
      ],
      "text/plain": [
       "1.9999999958776926"
      ]
     },
     "execution_count": 6,
     "metadata": {},
     "output_type": "execute_result"
    }
   ],
   "source": [
    "import math\n",
    "x =0\n",
    "1+math.tanh(10*(2*x+1))"
   ]
  },
  {
   "cell_type": "markdown",
   "metadata": {},
   "source": [
    "### 3.1. Mallado\n",
    "\n",
    "<div align=\"justify\">\n",
    "    Se inicia realizando la discretización del dominio.\n",
    "</div>"
   ]
  },
  {
   "cell_type": "code",
   "execution_count": 3,
   "metadata": {},
   "outputs": [
    {
     "data": {
      "application/vnd.jupyter.widget-view+json": {
       "model_id": "1d7888847a974f01b68813fb10f96e2c",
       "version_major": 2,
       "version_minor": 0
      },
      "text/plain": [
       "interactive(children=(IntSlider(value=4, description='xsub', max=6, min=3), IntSlider(value=4, description='ys…"
      ]
     },
     "metadata": {},
     "output_type": "display_data"
    }
   ],
   "source": [
    "%matplotlib inline\n",
    "from App.Preprocessing.Mesh import Malla\n",
    "import sqlite3 as sql\n",
    "from ipywidgets import *\n",
    "def Mesh(xsub,ysub, numN = False):\n",
    "    Malla((data['Geometría']['W']['Valor']/xsub,\n",
    "           data['Geometría']['H']['Valor']/ysub),\n",
    "           (data['Propiedades']['T_0']['Valor'],\n",
    "            data['Propiedades']['T_{infty}']['Valor']),\n",
    "           False,\n",
    "           (numN, False),\n",
    "           data['Geometría'])\n",
    "    #Conexión con base de datos\n",
    "    con = sql.connect('App/data.db')\n",
    "    text = [\"SELECT * FROM \", \" ORDER BY \", \" DESC LIMIT 1\"]\n",
    "    n =  con.execute(text[0]+' nodes '+text[1]+' NodeID '+text[2]).fetchall()\n",
    "    el = con.execute(text[0]+' elements '+text[1]+' ElID '+text[2]).fetchall()\n",
    "    con.close()\n",
    "    display(HTML(\"Número de nodos: \" + str(n[0][0])))\n",
    "    display(HTML(\"Número de elementos: \" + str(el[0][0])))\n",
    "    return data['Geometría']['W']['Valor']/xsub, data['Geometría']['H']['Valor']/ysub\n",
    "ElData = interactive(Mesh,\n",
    "                     xsub=(3,6,1),\n",
    "                     ysub=(3,6,1),\n",
    "                     numN = False, \n",
    "                     continous_update=False)\n",
    "display(ElData)"
   ]
  },
  {
   "cell_type": "markdown",
   "metadata": {},
   "source": [
    "### 3.2. Planteamiento y solución del sistema matricial\n",
    "\n",
    "<div align=\"justify\">\n",
    "    El planteamiento matricial se desarrolla con base en las siguietes relaciones matemáticas:\n",
    "    $$\n",
    "    \\begin{equation}\n",
    "        a_p T_p = a_E T_E + a_W T_W + a_N T_N + a_S T_S + b\n",
    "        \\tag{3}\n",
    "        \\label{Ts}\n",
    "    \\end{equation}\n",
    "    $$\n",
    "    $$\n",
    "    \\begin{equation}\n",
    "        u = 2y \\left(1-x^2 \\right) \\\\\n",
    "        v = -2x \\left(1-y^2 \\right)\n",
    "    \\end{equation}\n",
    "    $$\n",
    "    Dónde $b$ es la generación de calor y: \n",
    "    $$\n",
    "    \\begin{equation}\n",
    "        a_p = a_E + a_W + a_N + a_S + a_{p0} + \\left(F_E-F_W+F_N-F_S \\right) \\\\\n",
    "        F_E = F_W = \\rho u \\Delta y \\\\\n",
    "        F_N = F_S = \\rho v \\Delta x \\\\\n",
    "        a_{p0} = \\rho \\frac{\\Delta x \\Delta y}{\\Delta t} \\\\\n",
    "        b = a_{p0} T _p ^0 + Q_g \\Delta x \\Delta y \\\\\n",
    "        a_E = D_E A_{pE} + max \\left(-F_E,0 \\right) \\\\\n",
    "        a_W = D_W A_{pW} + max \\left(F_W,0 \\right) \\\\\n",
    "        a_N = D_N A_{pN} + max \\left(-F_N,0 \\right) \\\\\n",
    "        a_S = D_S A_{pS} + max \\left(F_S,0 \\right) \\\\\n",
    "        A_{pi} = max \\left(0 \\, , 1-0.5 \\mid P_i \\mid \\right) \\\\\n",
    "        P_i = \\frac{F_i}{D_i} = \\frac{\\rho u A}{K}\n",
    "    \\end{equation}\n",
    "    $$\n",
    "    Para la malla mostrada anteriormente, el sistema de ecuaciones general es el siguiente:\n",
    "</div>"
   ]
  },
  {
   "cell_type": "code",
   "execution_count": 8,
   "metadata": {},
   "outputs": [
    {
     "data": {
      "image/png": "[encoded data removed]",
      "text/latex": [
       "$\\displaystyle \\left[ T_{1} = 0.0, \\  T_{2} = 0.0, \\  T_{3} = 0.0, \\  T_{4} = 0.0, \\  T_{5} a_{p} = Q_{g} \\Delta  x \\Delta  y + T_{1} a_{W} + T_{10} a_{E} + T_{4} a_{S} + T_{6} a_{N}, \\  T_{6} a_{p} = Q_{g} \\Delta  x \\Delta  y + T_{11} a_{E} + T_{2} a_{W} + T_{5} a_{S} + T_{7} a_{N}, \\  T_{7} a_{p} = Q_{g} \\Delta  x \\Delta  y + T_{12} a_{E} + T_{3} a_{W} + T_{6} a_{S} + T_{8} a_{N}, \\  T_{8} = 5.0, \\  T_{9} = 0.0, \\  T_{10} a_{p} = Q_{g} \\Delta  x \\Delta  y + T_{11} a_{N} + T_{15} a_{E} + T_{5} a_{W} + T_{9} a_{S}, \\  T_{11} a_{p} = Q_{g} \\Delta  x \\Delta  y + T_{10} a_{S} + T_{12} a_{N} + T_{16} a_{E} + T_{6} a_{W}, \\  T_{12} a_{p} = Q_{g} \\Delta  x \\Delta  y + T_{11} a_{S} + T_{13} a_{N} + T_{17} a_{E} + T_{7} a_{W}, \\  T_{13} = 5.0, \\  T_{14} = 0.0, \\  T_{15} a_{p} = Q_{g} \\Delta  x \\Delta  y + T_{10} a_{W} + T_{14} a_{S} + T_{16} a_{N} + T_{19} a_{E}, \\  T_{16} a_{p} = Q_{g} \\Delta  x \\Delta  y + T_{11} a_{W} + T_{15} a_{S} + T_{17} a_{N} + T_{20} a_{E}, \\  T_{17} a_{p} = Q_{g} \\Delta  x \\Delta  y + T_{12} a_{W} + T_{16} a_{S} + T_{18} a_{N} + T_{21} a_{E}, \\  T_{18} = 5.0, \\  T_{19} = 0.0, \\  T_{20} = 0.0, \\  T_{21} = 0.0\\right]$"
      ],
      "text/plain": [
       "[T₁ = 0.0, T₂ = 0.0, T₃ = 0.0, T₄ = 0.0, T₅⋅aₚ = Q_g⋅\\Delta  x⋅\\Delta  y + T₁⋅\n",
       "a_W + T₁₀⋅a_E + T₄⋅a_S + T₆⋅a_N, T₆⋅aₚ = Q_g⋅\\Delta  x⋅\\Delta  y + T₁₁⋅a_E + T\n",
       "₂⋅a_W + T₅⋅a_S + T₇⋅a_N, T₇⋅aₚ = Q_g⋅\\Delta  x⋅\\Delta  y + T₁₂⋅a_E + T₃⋅a_W + \n",
       "T₆⋅a_S + T₈⋅a_N, T₈ = 5.0, T₉ = 0.0, T₁₀⋅aₚ = Q_g⋅\\Delta  x⋅\\Delta  y + T₁₁⋅a_\n",
       "N + T₁₅⋅a_E + T₅⋅a_W + T₉⋅a_S, T₁₁⋅aₚ = Q_g⋅\\Delta  x⋅\\Delta  y + T₁₀⋅a_S + T₁\n",
       "₂⋅a_N + T₁₆⋅a_E + T₆⋅a_W, T₁₂⋅aₚ = Q_g⋅\\Delta  x⋅\\Delta  y + T₁₁⋅a_S + T₁₃⋅a_N\n",
       " + T₁₇⋅a_E + T₇⋅a_W, T₁₃ = 5.0, T₁₄ = 0.0, T₁₅⋅aₚ = Q_g⋅\\Delta  x⋅\\Delta  y + \n",
       "T₁₀⋅a_W + T₁₄⋅a_S + T₁₆⋅a_N + T₁₉⋅a_E, T₁₆⋅aₚ = Q_g⋅\\Delta  x⋅\\Delta  y + T₁₁⋅\n",
       "a_W + T₁₅⋅a_S + T₁₇⋅a_N + T₂₀⋅a_E, T₁₇⋅aₚ = Q_g⋅\\Delta  x⋅\\Delta  y + T₁₂⋅a_W \n",
       "+ T₁₆⋅a_S + T₁₈⋅a_N + T₂₁⋅a_E, T₁₈ = 5.0, T₁₉ = 0.0, T₂₀ = 0.0, T₂₁ = 0.0]"
      ]
     },
     "execution_count": 8,
     "metadata": {},
     "output_type": "execute_result"
    }
   ],
   "source": [
    "#Lectura de la base de datos\n",
    "con = sql.connect('App/data.db')\n",
    "nodos = con.execute(\"SELECT * FROM nodes ORDER BY ID ASC\").fetchall()\n",
    "elementos = con.execute(\"SELECT * FROM elements ORDER BY p ASC\").fetchall()\n",
    "con.close()\n",
    "#Símbolos\n",
    "Ts = symbols(\"T_1:\" + str(len(nodos)+1))\n",
    "a_p, a_E, a_W, a_S, a_N, Q_g = symbols(\"a_p, a_E, a_W, a_S, a_N, Q_g\")\n",
    "Dx, Dy, dx, dy = Symbol(\"\\\\Delta  x\"), Symbol(\"\\\\Delta  y\"), Symbol(\"\\\\delta  x\"), Symbol(\"\\\\delta  y\")\n",
    "#Planteamiento de ecuaciones y suposiciones\n",
    "Ecuaciones = []\n",
    "sol = {}\n",
    "suma = 0\n",
    "for i in range(len(nodos)):\n",
    "    if nodos[i][-1] is None:\n",
    "        Ec = Eq(a_p*Ts[elementos[suma][3]-1],a_E*Ts[elementos[suma][4]-1]+\\\n",
    "                a_W*Ts[elementos[suma][5]-1]+a_N*Ts[elementos[suma][1]-1]+\\\n",
    "                a_S*Ts[elementos[suma][2]-1]+Q_g*Dx*Dy)\n",
    "        sol[Ts[elementos[suma][3]-1]] = solve(Ec, Ts[elementos[suma][3]-1])[0]\n",
    "        suma += 1\n",
    "    else:\n",
    "        Ec = Eq(Ts[i], nodos[i][-1])\n",
    "    Ecuaciones.append(Ec)\n",
    "sup = {}\n",
    "for el in elementos:\n",
    "    sup[Ts[el[3]-1]] = 0\n",
    "Ecuaciones"
   ]
  },
  {
   "cell_type": "code",
   "execution_count": 9,
   "metadata": {},
   "outputs": [
    {
     "data": {
      "text/plain": [
       "[(1, 6, 4, 5, 10, 1, None, None),\n",
       " (2, 7, 5, 6, 11, 2, None, None),\n",
       " (3, 8, 6, 7, 12, 3, None, 0.0),\n",
       " (4, 11, 9, 10, 15, 5, None, None),\n",
       " (5, 12, 10, 11, 16, 6, None, None),\n",
       " (6, 13, 11, 12, 17, 7, None, 0.0),\n",
       " (7, 16, 14, 15, 19, 10, 0.0, None),\n",
       " (8, 17, 15, 16, 20, 11, 0.0, None),\n",
       " (9, 18, 16, 17, 21, 12, 0.0, 0.0)]"
      ]
     },
     "execution_count": 9,
     "metadata": {},
     "output_type": "execute_result"
    }
   ],
   "source": [
    "elementos"
   ]
  },
  {
   "cell_type": "markdown",
   "metadata": {},
   "source": [
    "#### 3.2.1. Solución mediante _Gauss - Seidel_\n",
    "\n",
    "<div align=\"justify\">\n",
    "    <i> Gauss - Seidel</i> plantea una metodología de solución y comprobación iterativa. Se parte de la solución \"trivial\" como punto de partida.\n",
    "</div>"
   ]
  },
  {
   "cell_type": "code",
   "execution_count": null,
   "metadata": {},
   "outputs": [],
   "source": [
    "for s in sol:\n",
    "    sol[s] = sol[s].subs(sup)\n",
    "sol"
   ]
  },
  {
   "cell_type": "code",
   "execution_count": null,
   "metadata": {},
   "outputs": [],
   "source": [
    "sol"
   ]
  },
  {
   "cell_type": "code",
   "execution_count": null,
   "metadata": {},
   "outputs": [],
   "source": [
    "sup"
   ]
  },
  {
   "cell_type": "code",
   "execution_count": null,
   "metadata": {},
   "outputs": [],
   "source": [
    "#Inicialización de la matriz\n",
    "M = []\n",
    "for i in range(len(nodos)):\n",
    "    vec = []\n",
    "    for j in range(len(nodos)):\n",
    "        vec.append(0)\n",
    "    M.append(vec)\n",
    "for i in range(len(nodos)):\n",
    "    M[i][i] = solve(Ecuaciones[i], Ts[i])[0]\n",
    "SM = Matrix(M)\n",
    "SM"
   ]
  },
  {
   "cell_type": "markdown",
   "metadata": {},
   "source": [
    "Con la matriz simbólica podemos calcular los eigenvalores y eigenvectores."
   ]
  },
  {
   "cell_type": "code",
   "execution_count": null,
   "metadata": {},
   "outputs": [],
   "source": [
    "#SM.eigenvals()"
   ]
  },
  {
   "cell_type": "code",
   "execution_count": null,
   "metadata": {},
   "outputs": [],
   "source": []
  },
  {
   "cell_type": "code",
   "execution_count": null,
   "metadata": {},
   "outputs": [],
   "source": [
    "ElData.result"
   ]
  },
  {
   "cell_type": "code",
   "execution_count": null,
   "metadata": {},
   "outputs": [],
   "source": [
    "ec = Eq(2*Ts[0] + Ts[1], 5*Ts[4])\n",
    "sol = solve(ec, Ts[1])\n",
    "sol"
   ]
  }
 ],
 "metadata": {
  "kernelspec": {
   "display_name": "Python 3",
   "language": "python",
   "name": "python3"
  },
  "language_info": {
   "codemirror_mode": {
    "name": "ipython",
    "version": 3
   },
   "file_extension": ".py",
   "mimetype": "text/x-python",
   "name": "python",
   "nbconvert_exporter": "python",
   "pygments_lexer": "ipython3",
   "version": "3.7.4"
  }
 },
 "nbformat": 4,
 "nbformat_minor": 4
}
