{
 "cells": [
  {
   "cell_type": "markdown",
   "metadata": {},
   "source": [
    "<div align=\"center\">\n",
    "    <h1><strong>Proyecto Final</strong></h1>\n",
    "    <h2>Juan David Argüello Plata</h2>\n",
    "    <img src=\"Images/uis.png\" style=\"width: 300px;\" />\n",
    "</div>\n",
    "\n",
    "<div align=\"justify\">\n",
    "    El proyecto final trata sobre el estudio temporal-dinámico que sufre un río cuando sortea un obstáculo; como una piedra, por ejemplo. \n",
    "</div>\n",
    "\n",
    "<div align=\"center\">\n",
    "    <img src=\"Images/rio.jpg\" style=\"width: 300px;\" />\n",
    "</div>\n",
    "<div align=\"center\">\n",
    "    <i>Figura 1</i>. Río obstaculizado.\n",
    "</div>\n",
    "\n",
    "## __1. Geometría__\n",
    "\n",
    "<div align=\"justify\">\n",
    "    La geometría de estudio se puede apreciar en la Figura 2.\n",
    "</div>\n",
    "\n",
    "<div align=\"center\">\n",
    "    <img src=\"Images/Geometry/Geometry.PNG\" style=\"width: 600px;\" />\n",
    "</div>\n",
    "<div align=\"center\">\n",
    "    <i>Figura 2</i>. Geometría.\n",
    "</div>\n"
   ]
  },
  {
   "cell_type": "code",
   "execution_count": 2,
   "metadata": {},
   "outputs": [
    {
     "data": {
      "application/vnd.jupyter.widget-view+json": {
       "model_id": "221d19cbf63b42c79d257faedd39052a",
       "version_major": 2,
       "version_minor": 0
      },
      "text/plain": [
       "Tab(children=(Accordion(children=(FloatText(value=0.41), FloatText(value=2.0), FloatText(value=0.1), FloatText…"
      ]
     },
     "metadata": {},
     "output_type": "display_data"
    }
   ],
   "source": [
    "from App.Data import *\n",
    "data = Datos()\n",
    "data"
   ]
  },
  {
   "cell_type": "code",
   "execution_count": 3,
   "metadata": {},
   "outputs": [
    {
     "ename": "ImportError",
     "evalue": "DLL load failed: %1 no es una aplicación Win32 válida.",
     "output_type": "error",
     "traceback": [
      "\u001b[1;31m---------------------------------------------------------------------------\u001b[0m",
      "\u001b[1;31mImportError\u001b[0m                               Traceback (most recent call last)",
      "\u001b[1;32m<ipython-input-3-689f5ae6529c>\u001b[0m in \u001b[0;36m<module>\u001b[1;34m\u001b[0m\n\u001b[0;32m      1\u001b[0m \u001b[1;32mfrom\u001b[0m \u001b[0mApp\u001b[0m\u001b[1;33m.\u001b[0m\u001b[0mRead\u001b[0m \u001b[1;32mimport\u001b[0m \u001b[0mRead\u001b[0m\u001b[1;33m\u001b[0m\u001b[1;33m\u001b[0m\u001b[0m\n\u001b[1;32m----> 2\u001b[1;33m \u001b[1;32mfrom\u001b[0m \u001b[0mngsolve\u001b[0m \u001b[1;32mimport\u001b[0m \u001b[1;33m*\u001b[0m\u001b[1;33m\u001b[0m\u001b[1;33m\u001b[0m\u001b[0m\n\u001b[0m\u001b[0;32m      3\u001b[0m \u001b[1;32mfrom\u001b[0m \u001b[0mnetgen\u001b[0m\u001b[1;33m.\u001b[0m\u001b[0mgeom2d\u001b[0m \u001b[1;32mimport\u001b[0m \u001b[0mSplineGeometry\u001b[0m\u001b[1;33m\u001b[0m\u001b[1;33m\u001b[0m\u001b[0m\n\u001b[0;32m      4\u001b[0m \u001b[1;32mimport\u001b[0m \u001b[0mnetgen\u001b[0m\u001b[1;33m.\u001b[0m\u001b[0mgui\u001b[0m\u001b[1;33m\u001b[0m\u001b[1;33m\u001b[0m\u001b[0m\n\u001b[0;32m      5\u001b[0m \u001b[0mget_ipython\u001b[0m\u001b[1;33m(\u001b[0m\u001b[1;33m)\u001b[0m\u001b[1;33m.\u001b[0m\u001b[0mrun_line_magic\u001b[0m\u001b[1;33m(\u001b[0m\u001b[1;34m'gui'\u001b[0m\u001b[1;33m,\u001b[0m \u001b[1;34m'tk'\u001b[0m\u001b[1;33m)\u001b[0m\u001b[1;33m\u001b[0m\u001b[1;33m\u001b[0m\u001b[0m\n",
      "\u001b[1;32mC:\\Program Files\\ngsolve-v6.2.1909\\lib\\site-packages\\ngsolve\\__init__.py\u001b[0m in \u001b[0;36m<module>\u001b[1;34m\u001b[0m\n\u001b[0;32m     10\u001b[0m \u001b[0mngsolve\u001b[0m\u001b[1;33m.\u001b[0m\u001b[0mcomp\u001b[0m \u001b[1;33m...\u001b[0m \u001b[0mfunction\u001b[0m \u001b[0mspaces\u001b[0m\u001b[1;33m,\u001b[0m \u001b[0mforms\u001b[0m\u001b[1;33m\u001b[0m\u001b[1;33m\u001b[0m\u001b[0m\n\u001b[0;32m     11\u001b[0m \"\"\"\n\u001b[1;32m---> 12\u001b[1;33m \u001b[1;32mimport\u001b[0m \u001b[0mnetgen\u001b[0m\u001b[1;33m\u001b[0m\u001b[1;33m\u001b[0m\u001b[0m\n\u001b[0m\u001b[0;32m     13\u001b[0m \u001b[1;32mfrom\u001b[0m \u001b[1;33m.\u001b[0m\u001b[0mngslib\u001b[0m \u001b[1;32mimport\u001b[0m \u001b[0m__version__\u001b[0m\u001b[1;33m,\u001b[0m \u001b[0mngstd\u001b[0m\u001b[1;33m,\u001b[0m \u001b[0mbla\u001b[0m\u001b[1;33m,\u001b[0m \u001b[0mla\u001b[0m\u001b[1;33m,\u001b[0m \u001b[0mfem\u001b[0m\u001b[1;33m,\u001b[0m \u001b[0mcomp\u001b[0m\u001b[1;33m,\u001b[0m \u001b[0msolve\u001b[0m\u001b[1;33m\u001b[0m\u001b[1;33m\u001b[0m\u001b[0m\n\u001b[0;32m     14\u001b[0m \u001b[1;33m\u001b[0m\u001b[0m\n",
      "\u001b[1;32mC:\\Program Files\\ngsolve-v6.2.1909\\lib\\site-packages\\netgen\\__init__.py\u001b[0m in \u001b[0;36m<module>\u001b[1;34m\u001b[0m\n\u001b[0;32m     11\u001b[0m \u001b[1;32mdel\u001b[0m \u001b[0mos\u001b[0m\u001b[1;33m\u001b[0m\u001b[1;33m\u001b[0m\u001b[0m\n\u001b[0;32m     12\u001b[0m \u001b[1;33m\u001b[0m\u001b[0m\n\u001b[1;32m---> 13\u001b[1;33m \u001b[1;32mfrom\u001b[0m \u001b[1;33m.\u001b[0m \u001b[1;32mimport\u001b[0m \u001b[0mlibngpy\u001b[0m\u001b[1;33m\u001b[0m\u001b[1;33m\u001b[0m\u001b[0m\n\u001b[0m",
      "\u001b[1;31mImportError\u001b[0m: DLL load failed: %1 no es una aplicación Win32 válida."
     ]
    }
   ],
   "source": [
    "from App.Read import Read\n",
    "from ngsolve import *\n",
    "from netgen.geom2d import SplineGeometry\n",
    "import netgen.gui\n",
    "%gui tk\n",
    "\n",
    "#Datos\n",
    "datos = Read(data)\n",
    "datos\n",
    "\n",
    "# Geometría\n",
    "geo = SplineGeometry()\n",
    "geo.AddRectangle( (0, 0), (2, 0.41), bcs = (\"wall\", \"outlet\", \"wall\", \"inlet\"))\n",
    "geo.AddCircle ( (0.2, 0.2), r=0.05, leftdomain=0, rightdomain=1, bc=\"cyl\")\n",
    "Draw(geo)"
   ]
  },
  {
   "cell_type": "markdown",
   "metadata": {},
   "source": [
    "## __2. Mallado__\n",
    "\n",
    "<div align=\"justify\">\n",
    "    El mallado de la geometría se puede apreciar en\n",
    "</div>"
   ]
  },
  {
   "cell_type": "code",
   "execution_count": 2,
   "metadata": {},
   "outputs": [
    {
     "data": {
      "text/plain": [
       "{'Geo': {'h [m]': 0.41,\n",
       "  'l [m]': 2.0,\n",
       "  'D [m]': 0.1,\n",
       "  'Ox [m]': 0.2,\n",
       "  'Oy [m]': 0.2},\n",
       " 'Fluido': {'Constante del flujo de entrada': 4.0,\n",
       "  'Viscosidad': 0.001,\n",
       "  'Densidad [kg/m3]': 997.0,\n",
       "  'Tiempo final [s]': 10.0,\n",
       "  'Diferencial de tiempo [s]': 0.001}}"
      ]
     },
     "execution_count": 2,
     "metadata": {},
     "output_type": "execute_result"
    }
   ],
   "source": [
    "from App.Read import Read\n",
    "datos = Read(data)\n",
    "datos"
   ]
  },
  {
   "cell_type": "code",
   "execution_count": 4,
   "metadata": {},
   "outputs": [
    {
     "ename": "ModuleNotFoundError",
     "evalue": "No module named 'ngsolve'",
     "output_type": "error",
     "traceback": [
      "\u001b[1;31m---------------------------------------------------------------------------\u001b[0m",
      "\u001b[1;31mModuleNotFoundError\u001b[0m                       Traceback (most recent call last)",
      "\u001b[1;32m<ipython-input-4-8d319e425b9a>\u001b[0m in \u001b[0;36m<module>\u001b[1;34m\u001b[0m\n\u001b[1;32m----> 1\u001b[1;33m \u001b[1;32mfrom\u001b[0m \u001b[0mngsolve\u001b[0m \u001b[1;32mimport\u001b[0m \u001b[1;33m*\u001b[0m\u001b[1;33m\u001b[0m\u001b[1;33m\u001b[0m\u001b[0m\n\u001b[0m\u001b[0;32m      2\u001b[0m \u001b[1;33m\u001b[0m\u001b[0m\n\u001b[0;32m      3\u001b[0m \u001b[1;31m# viscosity\u001b[0m\u001b[1;33m\u001b[0m\u001b[1;33m\u001b[0m\u001b[1;33m\u001b[0m\u001b[0m\n\u001b[0;32m      4\u001b[0m \u001b[0mnu\u001b[0m \u001b[1;33m=\u001b[0m \u001b[1;36m0.001\u001b[0m\u001b[1;33m\u001b[0m\u001b[1;33m\u001b[0m\u001b[0m\n\u001b[0;32m      5\u001b[0m \u001b[1;33m\u001b[0m\u001b[0m\n",
      "\u001b[1;31mModuleNotFoundError\u001b[0m: No module named 'ngsolve'"
     ]
    }
   ],
   "source": [
    "from ngsolve import *\n",
    "\n",
    "# viscosity\n",
    "nu = 0.001\n",
    "\n",
    "# timestepping parameters\n",
    "tau = 0.001\n",
    "tend = 10\n",
    "\n",
    "# mesh = Mesh(\"cylinder.vol\")\n",
    "from netgen.geom2d import SplineGeometry\n",
    "import netgen.gui\n",
    "%gui tk\n",
    "geo = SplineGeometry()\n",
    "geo.AddRectangle( (0, 0), (2, 0.41), bcs = (\"wall\", \"outlet\", \"wall\", \"inlet\"))\n",
    "geo.AddCircle ( (0.2, 0.2), r=0.05, leftdomain=0, rightdomain=1, bc=\"cyl\")\n",
    "mesh = Mesh( geo.GenerateMesh(maxh=0.08))\n",
    "\n",
    "mesh.Curve(3)\n",
    "\n",
    "V = H1(mesh,order=3, dirichlet=\"wall|cyl|inlet\")\n",
    "Q = H1(mesh,order=2)\n",
    "\n",
    "X = FESpace([V,V,Q])\n",
    "\n",
    "ux,uy,p = X.TrialFunction()\n",
    "vx,vy,q = X.TestFunction()\n",
    "\n",
    "div_u = grad(ux)[0]+grad(uy)[1]\n",
    "div_v = grad(vx)[0]+grad(vy)[1]\n",
    "\n",
    "stokes = nu*grad(ux)*grad(vx)+nu*grad(uy)*grad(vy)+div_u*q+div_v*p - 1e-10*p*q\n",
    "a = BilinearForm(X)\n",
    "a += SymbolicBFI(stokes)\n",
    "a.Assemble()\n",
    "\n",
    "# nothing here ...\n",
    "f = LinearForm(X)   \n",
    "f.Assemble()\n",
    "\n",
    "# gridfunction for the solution\n",
    "gfu = GridFunction(X)\n",
    "\n",
    "# parabolic inflow at bc=1:\n",
    "uin = 1.5*4*y*(0.41-y)/(0.41*0.41)\n",
    "gfu.components[0].Set(uin, definedon=mesh.Boundaries(\"inlet\"))\n",
    "\n",
    "# solve Stokes problem for initial conditions:\n",
    "inv_stokes = a.mat.Inverse(X.FreeDofs())\n",
    "\n",
    "res = f.vec.CreateVector()\n",
    "res.data = f.vec - a.mat*gfu.vec\n",
    "gfu.vec.data += inv_stokes * res\n",
    "\n",
    "\n",
    "# matrix for implicit Euler \n",
    "mstar = BilinearForm(X)\n",
    "mstar += SymbolicBFI(ux*vx+uy*vy + tau*stokes)\n",
    "mstar.Assemble()\n",
    "inv = mstar.mat.Inverse(X.FreeDofs(), inverse=\"sparsecholesky\")\n",
    "\n",
    "# the non-linear term \n",
    "conv = BilinearForm(X, flags = { \"nonassemble\" : True })\n",
    "conv += SymbolicBFI( CoefficientFunction( (ux,uy) ) * (grad(ux)*vx+grad(uy)*vy) )\n",
    "\n",
    "# for visualization\n",
    "velocity = CoefficientFunction (gfu.components[0:2])\n",
    "Draw (Norm(velocity), mesh, \"velocity\", sd=3)\n",
    "\n",
    "# implicit Euler/explicit Euler splitting method:\n",
    "t = 0\n",
    "with TaskManager():\n",
    "    while t < tend:\n",
    "        #print (\"t=\", t)\n",
    "\n",
    "        conv.Apply (gfu.vec, res)\n",
    "        res.data += a.mat*gfu.vec\n",
    "        gfu.vec.data -= tau * inv * res    \n",
    "\n",
    "        t = t + tau\n",
    "        Redraw()"
   ]
  }
 ],
 "metadata": {
  "kernelspec": {
   "display_name": "Python 3",
   "language": "python",
   "name": "python3"
  },
  "language_info": {
   "codemirror_mode": {
    "name": "ipython",
    "version": 3
   },
   "file_extension": ".py",
   "mimetype": "text/x-python",
   "name": "python",
   "nbconvert_exporter": "python",
   "pygments_lexer": "ipython3",
   "version": "3.7.4"
  }
 },
 "nbformat": 4,
 "nbformat_minor": 4
}
