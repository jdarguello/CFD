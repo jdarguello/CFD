{
 "cells": [
  {
   "cell_type": "markdown",
   "metadata": {},
   "source": [
    "<div align=\"center\">\n",
    "    <h1><strong>Transferencia de Calor 2D</strong></h1>\n",
    "    <h2>Juan David Argüello Plata</h2>\n",
    "    <img src=\"Images/uis.png\" style=\"width: 300px;\" />\n",
    "</div>\n",
    "\n",
    "## __1. Planteamiento del Problema__\n",
    "\n",
    "<div align=\"justify\">\n",
    "    Se busca analizar, mediante métodos <i>analíticos</i> y <i>numéricos</i>, la transferencia de calor de la barra mostrada en la Figura 1.\n",
    "</div>\n",
    "\n",
    "<br>\n",
    "\n",
    "<div align=\"center\">\n",
    "    <img src=\"Images/Esquema_3D/Esquema.PNG\" style=\"width: 500px;\" />\n",
    "</div>\n",
    "\n",
    "<div align=\"center\">\n",
    "    <i>Figura 1.</i> Geometría del problema.\n",
    "</div>\n",
    "\n",
    "<div align=\"justify\">\n",
    "    Se toman las siguientes suposiciones:\n",
    "</div>\n",
    "\n",
    "* Conductividad térmica constante.\n",
    "* Conducción 2D.\n",
    "* Generación de calor por unidad de volumen constante.\n",
    "* Conducción estable (no transitoria).\n",
    "\n",
    "<div align=\"justify\">\n",
    "    Los datos del problema se pueden especificar a continuación.\n",
    "</div>"
   ]
  },
  {
   "cell_type": "code",
   "execution_count": 2,
   "metadata": {},
   "outputs": [
    {
     "data": {
      "text/html": [
       "$W= 10m$"
      ],
      "text/plain": [
       "<IPython.core.display.HTML object>"
      ]
     },
     "metadata": {},
     "output_type": "display_data"
    },
    {
     "data": {
      "text/html": [
       "$H= 10m$"
      ],
      "text/plain": [
       "<IPython.core.display.HTML object>"
      ]
     },
     "metadata": {},
     "output_type": "display_data"
    },
    {
     "data": {
      "text/html": [
       "$T_0= 5°C$"
      ],
      "text/plain": [
       "<IPython.core.display.HTML object>"
      ]
     },
     "metadata": {},
     "output_type": "display_data"
    },
    {
     "data": {
      "text/html": [
       "$T_{infty}= 0°C$"
      ],
      "text/plain": [
       "<IPython.core.display.HTML object>"
      ]
     },
     "metadata": {},
     "output_type": "display_data"
    },
    {
     "data": {
      "text/html": [
       "$K= 55W/m \\, °C$"
      ],
      "text/plain": [
       "<IPython.core.display.HTML object>"
      ]
     },
     "metadata": {},
     "output_type": "display_data"
    },
    {
     "data": {
      "text/html": [
       "$h= 10W/m^2 \\, °C$"
      ],
      "text/plain": [
       "<IPython.core.display.HTML object>"
      ]
     },
     "metadata": {},
     "output_type": "display_data"
    },
    {
     "data": {
      "text/html": [
       "$Q_g= 100W/m^3$"
      ],
      "text/plain": [
       "<IPython.core.display.HTML object>"
      ]
     },
     "metadata": {},
     "output_type": "display_data"
    }
   ],
   "source": [
    "data = {\n",
    "    'Geometría': {\n",
    "        'W': {\n",
    "            'Valor':10,\n",
    "            'Units': 'm'\n",
    "        },\n",
    "        'H': {\n",
    "            'Valor': 10,\n",
    "            'Units': 'm'\n",
    "        }\n",
    "    },\n",
    "    'Propiedades': {\n",
    "        'T_0': {\n",
    "            'Valor': 5,\n",
    "            'Units': '°C'\n",
    "        },\n",
    "        'T_{infty}': {\n",
    "            'Valor': 0,\n",
    "            'Units': '°C'\n",
    "        },\n",
    "        'K': {\n",
    "            'Valor': 55,\n",
    "            'Units': 'W/m \\, °C'\n",
    "        },\n",
    "        'h': {\n",
    "            'Valor': 10,\n",
    "            'Units': 'W/m^2 \\, °C'\n",
    "        },\n",
    "        'Q_g': {\n",
    "            'Valor': 100,\n",
    "            'Units': 'W/m^3'\n",
    "        }\n",
    "    }\n",
    "}\n",
    "\n",
    "from IPython.display import HTML, display\n",
    "for c in data:\n",
    "    for d in data[c]: \n",
    "        text = '$' + d + '= ' + str(data[c][d]['Valor']) + '' + data[c][d]['Units'] + '$'\n",
    "        display(HTML(text))"
   ]
  },
  {
   "cell_type": "markdown",
   "metadata": {},
   "source": [
    "## __2. Solución Analítica__\n",
    "\n",
    "<div align=\"justify\">\n",
    "    Se desarrolla el análisis sobre lo mostrado en la Figura 2.\n",
    "</div>\n",
    "\n",
    "<div align=\"center\">\n",
    "    <img src=\"Images/Esquema/Esquema.png\" style=\"width: 600px;\" />\n",
    "</div>\n",
    "\n",
    "<div align=\"center\">\n",
    "    <i>Figura 2.</i> Problema de estudio con condiciones de frontera.\n",
    "</div>\n",
    "\n",
    "<div align=\"justify\">\n",
    "    De la Figura 2, $\\theta$ es la temperatura adimensional y $Bi$ es el número de Biot.\n",
    "    $$\n",
    "    \\begin{equation}\n",
    "        \\theta (x^*,y^*) \\equiv \\frac{T(x,y) - T_{\\infty}}{T_0 - T_{\\infty}}\n",
    "        \\tag{1}\n",
    "        \\label{teta}\n",
    "    \\end{equation}\n",
    "    $$\n",
    "    El número de Biot se puede apreciar en la Ecuación \\ref{Biot}.\n",
    "    $$\n",
    "    \\begin{equation}\n",
    "        Bi = \\frac{h W}{K}\n",
    "        \\tag{2}\n",
    "        \\label{Biot}\n",
    "    \\end{equation}\n",
    "    $$\n",
    "    El análisis se desarrollará con variables adimensionales. \n",
    "    $$\n",
    "    \\begin{equation}\n",
    "        H ^* \\equiv  \\frac{H}{W} \\\\\n",
    "        x ^* \\equiv \\frac{x}{W} \\\\\n",
    "        y ^* \\equiv \\frac{y}{H}\n",
    "    \\end{equation}\n",
    "    $$\n",
    "</div>"
   ]
  },
  {
   "cell_type": "code",
   "execution_count": 2,
   "metadata": {},
   "outputs": [
    {
     "name": "stdout",
     "output_type": "stream",
     "text": [
      "IPython console for SymPy 1.4 (Python 3.7.4-32-bit) (ground types: python)\n",
      "\n",
      "These commands were executed:\n",
      ">>> from __future__ import division\n",
      ">>> from sympy import *\n",
      ">>> x, y, z, t = symbols('x y z t')\n",
      ">>> k, m, n = symbols('k m n', integer=True)\n",
      ">>> f, g, h = symbols('f g h', cls=Function)\n",
      ">>> init_printing()\n",
      "\n",
      "Documentation can be found at https://docs.sympy.org/1.4/\n",
      "\n"
     ]
    }
   ],
   "source": [
    "from sympy import init_session\n",
    "init_session(use_latex=True)"
   ]
  },
  {
   "cell_type": "code",
   "execution_count": 3,
   "metadata": {},
   "outputs": [
    {
     "data": {
      "image/png": "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\n",
      "text/latex": [
       "$\\displaystyle \\frac{\\partial^{2}}{\\partial x^{2}} \\theta{\\left(x,y \\right)} + \\frac{\\partial^{2}}{\\partial y^{2}} \\theta{\\left(x,y \\right)} = 0$"
      ],
      "text/plain": [
       "  2                   2                  \n",
       " ∂                   ∂                   \n",
       "───(\\theta(x, y)) + ───(\\theta(x, y)) = 0\n",
       "  2                   2                  \n",
       "∂x                  ∂y                   "
      ]
     },
     "execution_count": 3,
     "metadata": {},
     "output_type": "execute_result"
    }
   ],
   "source": [
    "#Constantes adimensionales\n",
    "H = data['Geometría']['H']['Valor']/data['Geometría']['W']['Valor']\n",
    "Bi = data['Geometría']['W']['Valor']*\\\n",
    "data['Propiedades']['h']['Valor']/data['Propiedades']['K']['Valor']\n",
    "theta_0 = (data['Propiedades']['T_0']['Valor'] - \\\n",
    "           data['Propiedades']['T_{infty}']['Valor'])/\\\n",
    "(data['Propiedades']['T_0']['Valor'] - \\\n",
    "           data['Propiedades']['T_{infty}']['Valor'])\n",
    "\n",
    "#Planteamiento de la ecuación diferencial\n",
    "#thetaX, thetaY = map(Function, 'XY')\n",
    "theta = Function('\\\\theta')\n",
    "Ec = Eq(theta(x,y).diff(x,2) + theta(x,y).diff(y,2),0)\n",
    "Ec"
   ]
  },
  {
   "cell_type": "code",
   "execution_count": 4,
   "metadata": {},
   "outputs": [
    {
     "data": {
      "image/png": "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\n",
      "text/latex": [
       "$\\displaystyle \\left\\{ \\theta{\\left(x,0 \\right)} : 1.0, \\  \\left. \\frac{\\partial}{\\partial x} \\theta{\\left(x,y \\right)} \\right|_{\\substack{ x=0 }} : 0, \\  \\left. \\frac{\\partial}{\\partial x} \\theta{\\left(x,y \\right)} \\right|_{\\substack{ x=1 }} : - 1.81818181818182 \\theta{\\left(1,y \\right)}, \\  \\left. \\frac{\\partial}{\\partial y} \\theta{\\left(x,y \\right)} \\right|_{\\substack{ y=1 }} : 0\\right\\}$"
      ],
      "text/plain": [
       "⎧                   ⎛∂               ⎞│        ⎛∂               ⎞│            \n",
       "⎨\\theta(x, 0): 1.0, ⎜──(\\theta(x, y))⎟│   : 0, ⎜──(\\theta(x, y))⎟│   : -1.8181\n",
       "⎩                   ⎝∂x              ⎠│x=0     ⎝∂x              ⎠│x=1         \n",
       "\n",
       "                         ⎛∂               ⎞│      ⎫\n",
       "8181818182⋅\\theta(1, y), ⎜──(\\theta(x, y))⎟│   : 0⎬\n",
       "                         ⎝∂y              ⎠│y=1   ⎭"
      ]
     },
     "execution_count": 4,
     "metadata": {},
     "output_type": "execute_result"
    }
   ],
   "source": [
    "#Condiciones de frontera\n",
    "bc = {\n",
    "    theta(x,0):theta_0,\n",
    "    theta(x,y).diff(x).subs(x,0): 0,\n",
    "    theta(x,y).diff(y).subs(y,1): 0,\n",
    "    theta(x,y).diff(x).subs(x,1): -Bi*theta(x,y).subs(x,1)\n",
    "}\n",
    "\"\"\"\n",
    "sol = pdsolve(Ec, theta(x,y))\n",
    "sol\n",
    "\"\"\"\n",
    "bc"
   ]
  },
  {
   "cell_type": "markdown",
   "metadata": {},
   "source": [
    "## __3. Solución Numérica__\n",
    "\n",
    "<div align=\"justify\">\n",
    "    La geomtería dada es la siguiente:\n",
    "</div>"
   ]
  },
  {
   "cell_type": "markdown",
   "metadata": {},
   "source": [
    "### 3.1. Mallado\n",
    "\n",
    "<div align=\"justify\">\n",
    "    El mallado del dominio...\n",
    "</div>"
   ]
  },
  {
   "cell_type": "code",
   "execution_count": 3,
   "metadata": {},
   "outputs": [
    {
     "data": {
      "image/png": "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\n",
      "text/plain": [
       "<Figure size 432x443.444 with 1 Axes>"
      ]
     },
     "metadata": {
      "needs_background": "light"
     },
     "output_type": "display_data"
    },
    {
     "data": {
      "text/plain": [
<<<<<<< HEAD
       "<App.Preprocessing.Geometry.Geo at 0x2cd9c70>"
=======
       "<App.Preprocessing.Geometry.Geo at 0x5629790>"
>>>>>>> 9e2b2d95fe216add6e46ba223ea5ab2d90bd933f
      ]
     },
     "execution_count": 3,
     "metadata": {},
     "output_type": "execute_result"
    }
   ],
   "source": [
    "%matplotlib inline\n",
    "from App.Preprocessing.Geometry import *\n",
    "Geo(data['Geometría'], True)"
   ]
  },
  {
   "cell_type": "markdown",
   "metadata": {},
   "source": [
    "<div align=\"justify\">\n",
    "    Se inicia realizando la discretización del dominio.\n",
    "</div>"
   ]
  },
  {
   "cell_type": "code",
   "execution_count": 4,
   "metadata": {},
   "outputs": [
    {
     "data": {
      "application/vnd.jupyter.widget-view+json": {
<<<<<<< HEAD
       "model_id": "362acb6940304c80a908682f11f17fb0",
=======
       "model_id": "642b0761d4544a4ab9ca5ab4e5291c1e",
>>>>>>> 9e2b2d95fe216add6e46ba223ea5ab2d90bd933f
       "version_major": 2,
       "version_minor": 0
      },
      "text/plain": [
       "interactive(children=(IntSlider(value=9, description='xsub', max=15, min=3), IntSlider(value=9, description='y…"
      ]
     },
     "metadata": {},
     "output_type": "display_data"
    }
   ],
   "source": [
    "from App.Preprocessing.Mesh import Malla\n",
    "from ipywidgets import *\n",
    "def Mesh(xsub,ysub, ref,Eltype='Cuad4', numEl = False,\n",
    "         numN = False):\n",
    "    Malla((data['Geometría']['W']['Valor']/xsub,\n",
    "           data['Geometría']['H']['Valor']/ysub),\n",
    "           ref,\n",
    "           (numN, numEl),\n",
    "           data['Geometría'], Eltype)\n",
    "ElData = interactive(Mesh,\n",
    "                     xsub=(3,15,1),\n",
    "                     ysub=(3,15,1),\n",
    "                     ref=(0,5,1),\n",
    "                     Eltype=['Cuad4', 'Cuad8', 'Tri3', 'Tri6'],\n",
    "                     numEl = False, numN = False, \n",
    "                     continous_update=False)\n",
    "display(ElData)"
   ]
  },
  {
   "cell_type": "markdown",
   "metadata": {},
   "source": [
    "### 3.2. Desarrollo\n",
    "\n",
    "<div align=\"justify\">\n",
    "    $$\n",
    "    \\begin{equation}\n",
    "        a_p T_p = a_E T_E + a_W T_W + a_N T_N + a_S T_S + b\n",
    "    \\end{equation}\n",
    "    $$\n",
    "    $$\n",
    "    \\begin{equation}\n",
    "        a_p = a_E + a_W + a_N + a_S\n",
    "    \\end{equation}\n",
    "    $$\n",
    "    $$\n",
    "    \\begin{equation}\n",
    "        b = S \\Delta x \\Delta y\n",
    "    \\end{equation}\n",
    "    $$\n",
    "    $$\n",
    "    \\begin{equation}\n",
    "        a_E = k \\frac{\\Delta y}{\\Delta x} \\\\\n",
    "        a_W = k \\frac{\\Delta y}{\\Delta x} \\\\\n",
    "        a_N = k \\frac{\\Delta x}{\\Delta y} \\\\\n",
    "        a_S = k \\frac{\\Delta x}{\\Delta y}\n",
    "    \\end{equation}\n",
    "    $$\n",
    "    $a_p$ es la suma de todos los coeficientes. $S$ es generación.\n",
    "</div>"
   ]
  },
  {
   "cell_type": "code",
   "execution_count": null,
   "metadata": {},
   "outputs": [],
   "source": []
  }
 ],
 "metadata": {
  "kernelspec": {
   "display_name": "Python 3",
   "language": "python",
   "name": "python3"
  },
  "language_info": {
   "codemirror_mode": {
    "name": "ipython",
    "version": 3
   },
   "file_extension": ".py",
   "mimetype": "text/x-python",
   "name": "python",
   "nbconvert_exporter": "python",
   "pygments_lexer": "ipython3",
   "version": "3.7.4"
  }
 },
 "nbformat": 4,
 "nbformat_minor": 4
}
