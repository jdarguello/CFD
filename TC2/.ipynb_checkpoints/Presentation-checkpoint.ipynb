{
 "cells": [
  {
   "cell_type": "markdown",
   "metadata": {},
   "source": [
    "<div align=\"center\">\n",
    "    <h1><strong>Transferencia de Calor 2D</strong></h1>\n",
    "    <h2>Juan David Argüello Plata</h2>\n",
    "    <img src=\"Images/uis.png\" style=\"width: 300px;\" />\n",
    "</div>\n",
    "\n",
    "## __LÉEME__\n",
    "\n",
    "<div align=\"justify\">\n",
    "    Antes de iniciar a leer y analizar el presente trabajo, ten en cuenta que debes <strong>esperar</strong> a que termine de cargar la página web.\n",
    "</div>\n",
    "\n",
    "<div align=\"center\">\n",
    "    <img src=\"Images/binder.PNG\" style=\"width: 450px;\" />\n",
    "</div>\n",
    "<div align=\"center\">\n",
    "    <i>Figura 0.</i> Página inicial <i>binder</i>.\n",
    "</div>\n",
    "\n",
    "<div align=\"justify\">\n",
    "    Una vez <i>desaparezca</i> la página de carga (Figura 0), recuerda que los bloques de código los puedes ejecutar con el siguiente comando:\n",
    "</div>\n",
    "\n",
    "``\n",
    "CTRL + ENTER\n",
    "``\n",
    "\n",
    "## __1. Planteamiento del Problema__\n",
    "\n",
    "<div align=\"justify\">\n",
    "    Se busca analizar, mediante métodos <i>analíticos</i> y <i>numéricos</i>, la transferencia de calor de la barra mostrada en la Figura 1.\n",
    "</div>\n",
    "\n",
    "<br>\n",
    "\n",
    "<div align=\"center\">\n",
    "    <img src=\"Images/Esquema_3D/Esquema.PNG\" style=\"width: 500px;\" />\n",
    "</div>\n",
    "\n",
    "<div align=\"center\">\n",
    "    <i>Figura 1.</i> Geometría del problema.\n",
    "</div>\n",
    "\n",
    "<div align=\"justify\">\n",
    "    Se toman las siguientes suposiciones:\n",
    "</div>\n",
    "\n",
    "* Conductividad térmica constante.\n",
    "* Conducción 2D.\n",
    "* Generación de calor por unidad de volumen constante.\n",
    "* Conducción estable (no transitoria).\n",
    "\n",
    "<div align=\"justify\">\n",
    "    Los datos del problema se pueden especificar a continuación.\n",
    "</div>"
   ]
  },
  {
   "cell_type": "code",
   "execution_count": 1,
   "metadata": {},
   "outputs": [
    {
     "data": {
      "text/html": [
       "$W= 10m$"
      ],
      "text/plain": [
       "<IPython.core.display.HTML object>"
      ]
     },
     "metadata": {},
     "output_type": "display_data"
    },
    {
     "data": {
      "text/html": [
       "$H= 10m$"
      ],
      "text/plain": [
       "<IPython.core.display.HTML object>"
      ]
     },
     "metadata": {},
     "output_type": "display_data"
    },
    {
     "data": {
      "text/html": [
       "$E= 1m$"
      ],
      "text/plain": [
       "<IPython.core.display.HTML object>"
      ]
     },
     "metadata": {},
     "output_type": "display_data"
    },
    {
     "data": {
      "text/html": [
       "$T_0= 373K$"
      ],
      "text/plain": [
       "<IPython.core.display.HTML object>"
      ]
     },
     "metadata": {},
     "output_type": "display_data"
    },
    {
     "data": {
      "text/html": [
       "$T_{infty}= 273K$"
      ],
      "text/plain": [
       "<IPython.core.display.HTML object>"
      ]
     },
     "metadata": {},
     "output_type": "display_data"
    },
    {
     "data": {
      "text/html": [
       "$K= 55W/m \\, K$"
      ],
      "text/plain": [
       "<IPython.core.display.HTML object>"
      ]
     },
     "metadata": {},
     "output_type": "display_data"
    },
    {
     "data": {
      "text/html": [
       "$h= 10W/m^2 \\, °C$"
      ],
      "text/plain": [
       "<IPython.core.display.HTML object>"
      ]
     },
     "metadata": {},
     "output_type": "display_data"
    },
    {
     "data": {
      "text/html": [
       "$Q_g= 100W/m^3$"
      ],
      "text/plain": [
       "<IPython.core.display.HTML object>"
      ]
     },
     "metadata": {},
     "output_type": "display_data"
    }
   ],
   "source": [
    "data = {\n",
    "    'Geometría': {\n",
    "        'W': {\n",
    "            'Valor':10,\n",
    "            'Units': 'm'\n",
    "        },\n",
    "        'H': {\n",
    "            'Valor': 10,\n",
    "            'Units': 'm'\n",
    "        },\n",
    "        'E': {\n",
    "            'Valor': 1,\n",
    "            'Units': 'm'\n",
    "        }\n",
    "    },\n",
    "    'Propiedades': {\n",
    "        'T_0': {\n",
    "            'Valor': 100+273,\n",
    "            'Units': 'K'\n",
    "        },\n",
    "        'T_{infty}': {\n",
    "            'Valor': 0+273,\n",
    "            'Units': 'K'\n",
    "        },\n",
    "        'K': {\n",
    "            'Valor': 55,\n",
    "            'Units': 'W/m \\, K'\n",
    "        },\n",
    "        'h': {\n",
    "            'Valor': 10,\n",
    "            'Units': 'W/m^2 \\, °C'\n",
    "        },\n",
    "        'Q_g': {\n",
    "            'Valor': 100,\n",
    "            'Units': 'W/m^3'\n",
    "        }\n",
    "    }\n",
    "}\n",
    "\n",
    "from IPython.display import HTML, display\n",
    "for c in data:\n",
    "    for d in data[c]: \n",
    "        text = '$' + d + '= ' + str(data[c][d]['Valor']) + '' + data[c][d]['Units'] + '$'\n",
    "        display(HTML(text))"
   ]
  },
  {
   "cell_type": "markdown",
   "metadata": {},
   "source": [
    "## __2. Solución Analítica__\n",
    "\n",
    "<div align=\"justify\">\n",
    "    Se desarrolla el análisis sobre lo mostrado en la Figura 2.\n",
    "</div>\n",
    "\n",
    "<div align=\"center\">\n",
    "    <img src=\"Images/Esquema/Esquema.png\" style=\"width: 600px;\" />\n",
    "</div>\n",
    "\n",
    "<div align=\"center\">\n",
    "    <i>Figura 2.</i> Problema de estudio con condiciones de frontera.\n",
    "</div>\n",
    "\n",
    "<div align=\"justify\">\n",
    "    De la Figura 2, $\\theta$ es la temperatura adimensional y $Bi$ es el número de Biot.\n",
    "    $$\n",
    "    \\begin{equation}\n",
    "        \\theta (x^*,y^*) \\equiv \\frac{T(x,y) - T_{\\infty}}{T_0 - T_{\\infty}}\n",
    "        \\tag{1}\n",
    "        \\label{teta}\n",
    "    \\end{equation}\n",
    "    $$\n",
    "    El número de Biot se puede apreciar en la Ecuación \\ref{Biot}.\n",
    "    $$\n",
    "    \\begin{equation}\n",
    "        Bi = \\frac{h W}{K}\n",
    "        \\tag{2}\n",
    "        \\label{Biot}\n",
    "    \\end{equation}\n",
    "    $$\n",
    "    El análisis se desarrollará con variables adimensionales. \n",
    "    $$\n",
    "    \\begin{equation}\n",
    "        H ^* \\equiv  \\frac{H}{W} \\\\\n",
    "        x ^* \\equiv \\frac{x}{W} \\\\\n",
    "        y ^* \\equiv \\frac{y}{H}\n",
    "    \\end{equation}\n",
    "    $$\n",
    "</div>"
   ]
  },
  {
   "cell_type": "code",
   "execution_count": 2,
   "metadata": {},
   "outputs": [
    {
     "name": "stdout",
     "output_type": "stream",
     "text": [
      "IPython console for SymPy 1.4 (Python 3.7.4-32-bit) (ground types: python)\n",
      "\n",
      "These commands were executed:\n",
      ">>> from __future__ import division\n",
      ">>> from sympy import *\n",
      ">>> x, y, z, t = symbols('x y z t')\n",
      ">>> k, m, n = symbols('k m n', integer=True)\n",
      ">>> f, g, h = symbols('f g h', cls=Function)\n",
      ">>> init_printing()\n",
      "\n",
      "Documentation can be found at https://docs.sympy.org/1.4/\n",
      "\n"
     ]
    }
   ],
   "source": [
    "from sympy import init_session\n",
    "init_session(use_latex=True)"
   ]
  },
  {
   "cell_type": "code",
   "execution_count": null,
   "metadata": {},
   "outputs": [],
   "source": [
    "#Constantes adimensionales\n",
    "H = data['Geometría']['H']['Valor']/data['Geometría']['W']['Valor']\n",
    "Bi = data['Geometría']['W']['Valor']*\\\n",
    "data['Propiedades']['h']['Valor']/data['Propiedades']['K']['Valor']\n",
    "theta_0 = (data['Propiedades']['T_0']['Valor'] - \\\n",
    "           data['Propiedades']['T_{infty}']['Valor'])/\\\n",
    "(data['Propiedades']['T_0']['Valor'] - \\\n",
    "           data['Propiedades']['T_{infty}']['Valor'])\n",
    "\n",
    "#Planteamiento de la ecuación diferencial\n",
    "#thetaX, thetaY = map(Function, 'XY')\n",
    "theta = Function('\\\\theta')\n",
    "Ec = Eq(theta(x,y).diff(x,2) + theta(x,y).diff(y,2),0)\n",
    "Ec"
   ]
  },
  {
   "cell_type": "code",
   "execution_count": null,
   "metadata": {},
   "outputs": [],
   "source": [
    "#Condiciones de frontera\n",
    "bc = {\n",
    "    theta(x,0):theta_0,\n",
    "    theta(x,y).diff(x).subs(x,0): 0,\n",
    "    theta(x,y).diff(y).subs(y,1): 0,\n",
    "    theta(x,y).diff(x).subs(x,1): -Bi*theta(x,y).subs(x,1)\n",
    "}\n",
    "\"\"\"\n",
    "sol = pdsolve(Ec, theta(x,y))\n",
    "sol\n",
    "\"\"\"\n",
    "bc"
   ]
  },
  {
   "cell_type": "markdown",
   "metadata": {},
   "source": [
    "## __3. Solución Numérica__\n",
    "\n",
    "<div align=\"justify\">\n",
    "    La geomtería dada es la siguiente:\n",
    "</div>"
   ]
  },
  {
   "cell_type": "code",
   "execution_count": 17,
   "metadata": {},
   "outputs": [
    {
     "data": {
      "image/png": "[encoded data removed]",
      "text/plain": [
       "<Figure size 432x443.444 with 1 Axes>"
      ]
     },
     "metadata": {
      "needs_background": "light"
     },
     "output_type": "display_data"
    },
    {
     "data": {
      "text/plain": [
       "<App.Preprocessing.Geometry.Geo at 0x1373ef0>"
      ]
     },
     "execution_count": 17,
     "metadata": {},
     "output_type": "execute_result"
    }
   ],
   "source": [
    "%matplotlib inline\n",
    "from App.Preprocessing.Geometry import *\n",
    "Geo(data['Geometría'], True)"
   ]
  },
  {
   "cell_type": "markdown",
   "metadata": {},
   "source": [
    "### 3.1. Mallado\n",
    "\n",
    "<div align=\"justify\">\n",
    "    Se inicia realizando la discretización del dominio.\n",
    "</div>"
   ]
  },
  {
   "cell_type": "code",
   "execution_count": 3,
   "metadata": {},
   "outputs": [
    {
     "data": {
      "application/vnd.jupyter.widget-view+json": {
       "model_id": "6c30b137e4bc45288a33cab0018afed6",
       "version_major": 2,
       "version_minor": 0
      },
      "text/plain": [
       "interactive(children=(IntSlider(value=6, description='xsub', max=10, min=3), IntSlider(value=6, description='y…"
      ]
     },
     "metadata": {},
     "output_type": "display_data"
    }
   ],
   "source": [
    "%matplotlib inline\n",
    "from App.Preprocessing.Mesh import Malla\n",
    "import sqlite3 as sql\n",
    "from ipywidgets import *\n",
    "def Mesh(xsub,ysub, numN = False):\n",
    "    Malla((data['Geometría']['W']['Valor']/xsub,\n",
    "           data['Geometría']['H']['Valor']/ysub),\n",
    "           (data['Propiedades']['T_0']['Valor'],\n",
    "            data['Propiedades']['T_{infty}']['Valor']),\n",
    "           False,\n",
    "           (numN, False),\n",
    "           data['Geometría'])\n",
    "    #Conexión con base de datos\n",
    "    con = sql.connect('App/data.db')\n",
    "    text = [\"SELECT * FROM \", \" ORDER BY \", \" DESC LIMIT 1\"]\n",
    "    n =  con.execute(text[0]+' nodes '+text[1]+' NodeID '+text[2]).fetchall()\n",
    "    el = con.execute(text[0]+' elements '+text[1]+' ElID '+text[2]).fetchall()\n",
    "    con.close()\n",
    "    display(HTML(\"Número de nodos: \" + str(n[0][0])))\n",
    "    display(HTML(\"Número de elementos: \" + str(el[0][0])))\n",
    "    return data['Geometría']['W']['Valor']/xsub, data['Geometría']['H']['Valor']/ysub\n",
    "ElData = interactive(Mesh,\n",
    "                     xsub=(3,10,1),\n",
    "                     ysub=(3,10,1),\n",
    "                     numN = False, \n",
    "                     continous_update=False)\n",
    "display(ElData)"
   ]
  },
  {
   "cell_type": "markdown",
   "metadata": {},
   "source": [
    "### __3.2. SOLVER__\n",
    "\n",
    "<div align=\"justify\">\n",
    "    El planteamiento matricial se desarrolla con base en las siguietes relaciones matemáticas:\n",
    "    $$\n",
    "    \\begin{equation}\n",
    "        a_p T_p = a_E T_E + a_W T_W + a_N T_N + a_S T_S + Q_g \\Delta x \\Delta y\n",
    "        \\tag{3}\n",
    "        \\label{Ts}\n",
    "    \\end{equation}\n",
    "    $$\n",
    "    Dónde $b$ es la generación de calor y: \n",
    "    $$\n",
    "    \\begin{equation}\n",
    "        a_p = a_E + a_W + a_N + a_S \\\\\n",
    "        a_E = K \\frac{\\Delta y}{\\delta x} \\\\\n",
    "        a_W = K \\frac{\\Delta y}{\\delta x} \\\\\n",
    "        a_N = K \\frac{\\Delta x}{\\delta y} \\\\\n",
    "        a_S = K \\frac{\\Delta x}{\\delta y}\n",
    "    \\end{equation}\n",
    "    $$\n",
    "    Para la malla mostrada anteriormente, el sistema de ecuaciones general es el siguiente:\n",
    "</div>"
   ]
  },
  {
   "cell_type": "code",
   "execution_count": 4,
   "metadata": {},
   "outputs": [
    {
     "data": {
      "image/png": "[encoded data removed]",
      "text/latex": [
       "$\\displaystyle \\left[ T_{1} = 273.0, \\  T_{2} = 273.0, \\  T_{3} = 273.0, \\  T_{4} = 273.0, \\  T_{5} a_{p} = Q_{g} \\Delta  x \\Delta  y + T_{1} a_{W} + T_{10} a_{E} + T_{4} a_{S} + T_{6} a_{N}, \\  T_{6} a_{p} = Q_{g} \\Delta  x \\Delta  y + T_{11} a_{E} + T_{2} a_{W} + T_{5} a_{S} + T_{7} a_{N}, \\  T_{7} a_{p} = Q_{g} \\Delta  x \\Delta  y + T_{12} a_{E} + T_{3} a_{W} + T_{6} a_{S} + T_{8} a_{N}, \\  T_{8} = 373.0, \\  T_{9} = 273.0, \\  T_{10} a_{p} = Q_{g} \\Delta  x \\Delta  y + T_{11} a_{N} + T_{15} a_{E} + T_{5} a_{W} + T_{9} a_{S}, \\  T_{11} a_{p} = Q_{g} \\Delta  x \\Delta  y + T_{10} a_{S} + T_{12} a_{N} + T_{16} a_{E} + T_{6} a_{W}, \\  T_{12} a_{p} = Q_{g} \\Delta  x \\Delta  y + T_{11} a_{S} + T_{13} a_{N} + T_{17} a_{E} + T_{7} a_{W}, \\  T_{13} = 373.0, \\  T_{14} = 273.0, \\  T_{15} a_{p} = Q_{g} \\Delta  x \\Delta  y + T_{10} a_{W} + T_{14} a_{S} + T_{16} a_{N} + T_{19} a_{E}, \\  T_{16} a_{p} = Q_{g} \\Delta  x \\Delta  y + T_{11} a_{W} + T_{15} a_{S} + T_{17} a_{N} + T_{20} a_{E}, \\  T_{17} a_{p} = Q_{g} \\Delta  x \\Delta  y + T_{12} a_{W} + T_{16} a_{S} + T_{18} a_{N} + T_{21} a_{E}, \\  T_{18} = 373.0, \\  T_{19} = 273.0, \\  T_{20} = 273.0, \\  T_{21} = 273.0\\right]$"
      ],
      "text/plain": [
       "[T₁ = 273.0, T₂ = 273.0, T₃ = 273.0, T₄ = 273.0, T₅⋅aₚ = Q_g⋅\\Delta  x⋅\\Delta \n",
       " y + T₁⋅a_W + T₁₀⋅a_E + T₄⋅a_S + T₆⋅a_N, T₆⋅aₚ = Q_g⋅\\Delta  x⋅\\Delta  y + T₁₁\n",
       "⋅a_E + T₂⋅a_W + T₅⋅a_S + T₇⋅a_N, T₇⋅aₚ = Q_g⋅\\Delta  x⋅\\Delta  y + T₁₂⋅a_E + T\n",
       "₃⋅a_W + T₆⋅a_S + T₈⋅a_N, T₈ = 373.0, T₉ = 273.0, T₁₀⋅aₚ = Q_g⋅\\Delta  x⋅\\Delta\n",
       "  y + T₁₁⋅a_N + T₁₅⋅a_E + T₅⋅a_W + T₉⋅a_S, T₁₁⋅aₚ = Q_g⋅\\Delta  x⋅\\Delta  y + \n",
       "T₁₀⋅a_S + T₁₂⋅a_N + T₁₆⋅a_E + T₆⋅a_W, T₁₂⋅aₚ = Q_g⋅\\Delta  x⋅\\Delta  y + T₁₁⋅a\n",
       "_S + T₁₃⋅a_N + T₁₇⋅a_E + T₇⋅a_W, T₁₃ = 373.0, T₁₄ = 273.0, T₁₅⋅aₚ = Q_g⋅\\Delta\n",
       "  x⋅\\Delta  y + T₁₀⋅a_W + T₁₄⋅a_S + T₁₆⋅a_N + T₁₉⋅a_E, T₁₆⋅aₚ = Q_g⋅\\Delta  x⋅\n",
       "\\Delta  y + T₁₁⋅a_W + T₁₅⋅a_S + T₁₇⋅a_N + T₂₀⋅a_E, T₁₇⋅aₚ = Q_g⋅\\Delta  x⋅\\Del\n",
       "ta  y + T₁₂⋅a_W + T₁₆⋅a_S + T₁₈⋅a_N + T₂₁⋅a_E, T₁₈ = 373.0, T₁₉ = 273.0, T₂₀ =\n",
       " 273.0, T₂₁ = 273.0]"
      ]
     },
     "execution_count": 4,
     "metadata": {},
     "output_type": "execute_result"
    }
   ],
   "source": [
    "#Lectura de la base de datos\n",
    "con = sql.connect('App/data.db')\n",
    "nodos = con.execute(\"SELECT * FROM nodes ORDER BY ID ASC\").fetchall()\n",
    "elementos = con.execute(\"SELECT * FROM elements ORDER BY p ASC\").fetchall()\n",
    "con.close()\n",
    "#Símbolos\n",
    "Ts = symbols(\"T_1:\" + str(len(nodos)+1))\n",
    "a_p, a_E, a_W, a_S, a_N, Q_g = symbols(\"a_p, a_E, a_W, a_S, a_N, Q_g\")\n",
    "Dx, Dy, dx, dy = Symbol(\"\\\\Delta  x\"), Symbol(\"\\\\Delta  y\"), Symbol(\"\\\\delta  x\"), Symbol(\"\\\\delta  y\")\n",
    "#Planteamiento de ecuaciones y suposiciones\n",
    "Ecuaciones = []\n",
    "sol = {}\n",
    "conocidas = {}\n",
    "suma = 0\n",
    "for i in range(len(nodos)):\n",
    "    if nodos[i][-1] is None:\n",
    "        Ec = Eq(a_p*Ts[elementos[suma][3]-1],a_E*Ts[elementos[suma][4]-1]+\\\n",
    "                a_W*Ts[elementos[suma][5]-1]+a_N*Ts[elementos[suma][1]-1]+\\\n",
    "                a_S*Ts[elementos[suma][2]-1]+Q_g*Dx*Dy)\n",
    "        sol[Ts[elementos[suma][3]-1]] = solve(Ec, Ts[elementos[suma][3]-1])[0]\n",
    "        suma += 1\n",
    "    else:\n",
    "        Ec = Eq(Ts[i], nodos[i][-1])\n",
    "        conocidas[Ts[i]] = solve(Ec)[0]\n",
    "    Ecuaciones.append(Ec)\n",
    "sup = {}\n",
    "for el in elementos:\n",
    "    sup[Ts[el[3]-1]] = 0\n",
    "Ecuaciones"
   ]
  },
  {
   "cell_type": "code",
   "execution_count": 5,
   "metadata": {},
   "outputs": [
    {
     "data": {
      "image/png": "[encoded data removed]",
      "text/latex": [
       "$\\displaystyle \\left\\{ T_{10} : \\frac{Q_{g} \\Delta  x \\Delta  y + T_{11} a_{N} + T_{15} a_{E} + T_{5} a_{W} + T_{9} a_{S}}{a_{p}}, \\  T_{11} : \\frac{Q_{g} \\Delta  x \\Delta  y + T_{10} a_{S} + T_{12} a_{N} + T_{16} a_{E} + T_{6} a_{W}}{a_{p}}, \\  T_{12} : \\frac{Q_{g} \\Delta  x \\Delta  y + T_{11} a_{S} + T_{13} a_{N} + T_{17} a_{E} + T_{7} a_{W}}{a_{p}}, \\  T_{15} : \\frac{Q_{g} \\Delta  x \\Delta  y + T_{10} a_{W} + T_{14} a_{S} + T_{16} a_{N} + T_{19} a_{E}}{a_{p}}, \\  T_{16} : \\frac{Q_{g} \\Delta  x \\Delta  y + T_{11} a_{W} + T_{15} a_{S} + T_{17} a_{N} + T_{20} a_{E}}{a_{p}}, \\  T_{17} : \\frac{Q_{g} \\Delta  x \\Delta  y + T_{12} a_{W} + T_{16} a_{S} + T_{18} a_{N} + T_{21} a_{E}}{a_{p}}, \\  T_{5} : \\frac{Q_{g} \\Delta  x \\Delta  y + T_{1} a_{W} + T_{10} a_{E} + T_{4} a_{S} + T_{6} a_{N}}{a_{p}}, \\  T_{6} : \\frac{Q_{g} \\Delta  x \\Delta  y + T_{11} a_{E} + T_{2} a_{W} + T_{5} a_{S} + T_{7} a_{N}}{a_{p}}, \\  T_{7} : \\frac{Q_{g} \\Delta  x \\Delta  y + T_{12} a_{E} + T_{3} a_{W} + T_{6} a_{S} + T_{8} a_{N}}{a_{p}}\\right\\}$"
      ],
      "text/plain": [
       "⎧     Q_g⋅\\Delta  x⋅\\Delta  y + T₁₁⋅a_N + T₁₅⋅a_E + T₅⋅a_W + T₉⋅a_S       Q_g⋅\n",
       "⎨T₁₀: ─────────────────────────────────────────────────────────────, T₁₁: ────\n",
       "⎩                                   aₚ                                        \n",
       "\n",
       "\\Delta  x⋅\\Delta  y + T₁₀⋅a_S + T₁₂⋅a_N + T₁₆⋅a_E + T₆⋅a_W       Q_g⋅\\Delta  x\n",
       "──────────────────────────────────────────────────────────, T₁₂: ─────────────\n",
       "                          aₚ                                                  \n",
       "\n",
       "⋅\\Delta  y + T₁₁⋅a_S + T₁₃⋅a_N + T₁₇⋅a_E + T₇⋅a_W       Q_g⋅\\Delta  x⋅\\Delta  \n",
       "─────────────────────────────────────────────────, T₁₅: ──────────────────────\n",
       "                 aₚ                                                           \n",
       "\n",
       "y + T₁₀⋅a_W + T₁₄⋅a_S + T₁₆⋅a_N + T₁₉⋅a_E       Q_g⋅\\Delta  x⋅\\Delta  y + T₁₁⋅\n",
       "─────────────────────────────────────────, T₁₆: ──────────────────────────────\n",
       "         aₚ                                                                   \n",
       "\n",
       "a_W + T₁₅⋅a_S + T₁₇⋅a_N + T₂₀⋅a_E       Q_g⋅\\Delta  x⋅\\Delta  y + T₁₂⋅a_W + T₁\n",
       "─────────────────────────────────, T₁₇: ──────────────────────────────────────\n",
       " aₚ                                                                    aₚ     \n",
       "\n",
       "₆⋅a_S + T₁₈⋅a_N + T₂₁⋅a_E      Q_g⋅\\Delta  x⋅\\Delta  y + T₁⋅a_W + T₁₀⋅a_E + T₄\n",
       "─────────────────────────, T₅: ───────────────────────────────────────────────\n",
       "                                                            aₚ                \n",
       "\n",
       "⋅a_S + T₆⋅a_N      Q_g⋅\\Delta  x⋅\\Delta  y + T₁₁⋅a_E + T₂⋅a_W + T₅⋅a_S + T₇⋅a_\n",
       "─────────────, T₆: ───────────────────────────────────────────────────────────\n",
       "                                                aₚ                            \n",
       "\n",
       "N      Q_g⋅\\Delta  x⋅\\Delta  y + T₁₂⋅a_E + T₃⋅a_W + T₆⋅a_S + T₈⋅a_N⎫\n",
       "─, T₇: ────────────────────────────────────────────────────────────⎬\n",
       "                                    aₚ                             ⎭"
      ]
     },
     "execution_count": 5,
     "metadata": {},
     "output_type": "execute_result"
    }
   ],
   "source": [
    "sol"
   ]
  },
  {
   "cell_type": "markdown",
   "metadata": {},
   "source": [
    "#### 3.2.1. Solución mediante _Gauss - Seidel_\n",
    "\n",
    "<div align=\"justify\">\n",
    "    <i> Gauss - Seidel</i> plantea una metodología de solución y comprobación iterativa. Se parte de la solución \"trivial\" como punto de partida.\n",
    "</div>"
   ]
  },
  {
   "cell_type": "code",
   "execution_count": 6,
   "metadata": {},
   "outputs": [
    {
     "data": {
      "image/png": "[encoded data removed]",
      "text/latex": [
       "$\\displaystyle \\left\\{ T_{10} : 0, \\  T_{11} : 0, \\  T_{12} : 0, \\  T_{15} : 0, \\  T_{16} : 0, \\  T_{17} : 0, \\  T_{5} : 0, \\  T_{6} : 0, \\  T_{7} : 0\\right\\}$"
      ],
      "text/plain": [
       "{T₁₀: 0, T₁₁: 0, T₁₂: 0, T₁₅: 0, T₁₆: 0, T₁₇: 0, T₅: 0, T₆: 0, T₇: 0}"
      ]
     },
     "execution_count": 6,
     "metadata": {},
     "output_type": "execute_result"
    }
   ],
   "source": [
    "sup"
   ]
  },
  {
   "cell_type": "markdown",
   "metadata": {},
   "source": [
    "Reemplazando los datos correspondientes, se obtiene..."
   ]
  },
  {
   "cell_type": "code",
   "execution_count": 7,
   "metadata": {},
   "outputs": [
    {
     "data": {
      "image/png": "[encoded data removed]",
      "text/latex": [
       "$\\displaystyle \\left\\{ T_{10} : 0.25 T_{11} + 0.25 T_{15} + 0.25 T_{5} + 73.3005050505051, \\  T_{11} : 0.25 T_{10} + 0.25 T_{12} + 0.25 T_{16} + 0.25 T_{6} + 5.05050505050505, \\  T_{12} : 0.25 T_{11} + 0.25 T_{17} + 0.25 T_{7} + 98.3005050505051, \\  T_{15} : 0.25 T_{10} + 0.25 T_{16} + 141.550505050505, \\  T_{16} : 0.25 T_{11} + 0.25 T_{15} + 0.25 T_{17} + 73.3005050505051, \\  T_{17} : 0.25 T_{12} + 0.25 T_{16} + 166.550505050505, \\  T_{5} : 0.25 T_{10} + 0.25 T_{6} + 141.550505050505, \\  T_{6} : 0.25 T_{11} + 0.25 T_{5} + 0.25 T_{7} + 73.3005050505051, \\  T_{7} : 0.25 T_{12} + 0.25 T_{6} + 166.550505050505\\right\\}$"
      ],
      "text/plain": [
       "{T₁₀: 0.25⋅T₁₁ + 0.25⋅T₁₅ + 0.25⋅T₅ + 73.3005050505051, T₁₁: 0.25⋅T₁₀ + 0.25⋅T\n",
       "₁₂ + 0.25⋅T₁₆ + 0.25⋅T₆ + 5.05050505050505, T₁₂: 0.25⋅T₁₁ + 0.25⋅T₁₇ + 0.25⋅T₇\n",
       " + 98.3005050505051, T₁₅: 0.25⋅T₁₀ + 0.25⋅T₁₆ + 141.550505050505, T₁₆: 0.25⋅T₁\n",
       "₁ + 0.25⋅T₁₅ + 0.25⋅T₁₇ + 73.3005050505051, T₁₇: 0.25⋅T₁₂ + 0.25⋅T₁₆ + 166.550\n",
       "505050505, T₅: 0.25⋅T₁₀ + 0.25⋅T₆ + 141.550505050505, T₆: 0.25⋅T₁₁ + 0.25⋅T₅ +\n",
       " 0.25⋅T₇ + 73.3005050505051, T₇: 0.25⋅T₁₂ + 0.25⋅T₆ + 166.550505050505}"
      ]
     },
     "execution_count": 7,
     "metadata": {},
     "output_type": "execute_result"
    }
   ],
   "source": [
    "#Variables\n",
    "var = {}\n",
    "var['Q_g'], var['K'] = data['Propiedades']['Q_g']['Valor'], data['Propiedades']['K']['Valor']\n",
    "var['Dx'], var['Dy'] = ElData.result\n",
    "#a's\n",
    "for a in ['a_E', 'a_W']:\n",
    "    var[a] = var['K']*(var['Dy']/var['Dx'])\n",
    "for a in ['a_S', 'a_N']:\n",
    "    var[a] = var['K']*(var['Dx']/var['Dy'])\n",
    "var['a_p'] = 0    #Es 0 porque es conducción pura, rho*u (densidad por velocidad)\n",
    "for a in ['a_E', 'a_W', 'a_S', 'a_N']:\n",
    "    var['a_p'] += var[a]\n",
    "#Diccionario de variables\n",
    "var_sup = {}\n",
    "for key in [Q_g, a_E, a_W, a_S, a_N, a_p]:\n",
    "    var_sup[key] = var[f\"{key}\"]\n",
    "var_sup[Dx], var_sup[Dy] = var['Dx'], var['Dy']\n",
    "#Reemplazar\n",
    "solution = {}\n",
    "protected = frozenset(sol.items())\n",
    "for s in sol:\n",
    "    solution[s] = dict(protected)[s].subs(var_sup)\n",
    "    solution[s] = solution[s].subs(conocidas)\n",
    "solution"
   ]
  },
  {
   "cell_type": "markdown",
   "metadata": {},
   "source": [
    "Ahora, se desarrolla el procedimiento iterativo. Se plantea un criterio de convergencia que defina la _culminación_ del proceso de cálculo."
   ]
  },
  {
   "cell_type": "code",
   "execution_count": 8,
   "metadata": {},
   "outputs": [
    {
     "data": {
      "text/html": [
       "Iteración número $6$. Máximo valor de error: $3.26\\%$"
      ],
      "text/plain": [
       "<IPython.core.display.HTML object>"
      ]
     },
     "metadata": {},
     "output_type": "display_data"
    },
    {
     "data": {
      "image/png": "[encoded data removed]",
      "text/latex": [
       "$\\displaystyle \\left\\{ T_{1} : 273.0, \\  T_{10} : 291.03776860478, \\  T_{11} : 311.259449968434, \\  T_{12} : 338.620503336492, \\  T_{13} : 373.0, \\  T_{14} : 273.0, \\  T_{15} : 289.297998139353, \\  T_{16} : 304.692013651434, \\  T_{17} : 327.378634297487, \\  T_{18} : 373.0, \\  T_{19} : 273.0, \\  T_{2} : 273.0, \\  T_{20} : 273.0, \\  T_{21} : 273.0, \\  T_{3} : 273.0, \\  T_{4} : 273.0, \\  T_{5} : 284.592195838389, \\  T_{6} : 299.965686085248, \\  T_{7} : 325.011956879587, \\  T_{8} : 373.0, \\  T_{9} : 273.0\\right\\}$"
      ],
      "text/plain": [
       "{T₁: 273.0, T₁₀: 291.03776860478, T₁₁: 311.259449968434, T₁₂: 338.620503336492\n",
       ", T₁₃: 373.0, T₁₄: 273.0, T₁₅: 289.297998139353, T₁₆: 304.692013651434, T₁₇: 3\n",
       "27.378634297487, T₁₈: 373.0, T₁₉: 273.0, T₂: 273.0, T₂₀: 273.0, T₂₁: 273.0, T₃\n",
       ": 273.0, T₄: 273.0, T₅: 284.592195838389, T₆: 299.965686085248, T₇: 325.011956\n",
       "879587, T₈: 373.0, T₉: 273.0}"
      ]
     },
     "execution_count": 8,
     "metadata": {},
     "output_type": "execute_result"
    }
   ],
   "source": [
    "from IPython.display import HTML, display\n",
    "con.close()\n",
    "#----Criterio de convergencia----\n",
    "CC = 0.05\n",
    "max_it = 10    #Número máximo de iteraciones\n",
    "\n",
    "#--Solución mediante Gauss - Seidel--\n",
    "criterion = 1.1\n",
    "it = 0\n",
    "protected = frozenset(solution.items())\n",
    "protected_sup = frozenset(sup.items())\n",
    "while True:\n",
    "    if criterion <= CC or it >= max_it:\n",
    "        display(HTML(\"Iteración número $\" + str(it) + \"$. Máximo valor de error: $\" \\\n",
    "                     + str(round(criterion*100,2)) + \"\\%$\"))\n",
    "        break\n",
    "    it += 1\n",
    "    if it == 1:\n",
    "        viejo = dict(protected_sup)\n",
    "    #Reemplaza con valores anteriores\n",
    "    nuevo = {}\n",
    "    maximo = -1\n",
    "    T_max = data['Propiedades']['T_{infty}']['Valor']\n",
    "    for key in sol:\n",
    "        nuevo[key] = dict(protected)[key].subs(viejo)\n",
    "        porcentaje = abs((nuevo[key]-viejo[key])/nuevo[key])\n",
    "        viejo[key] = nuevo[key]\n",
    "        if T_max < nuevo[key]:\n",
    "            T_max = nuevo[key]\n",
    "        if maximo < porcentaje:\n",
    "            maximo = porcentaje\n",
    "    criterion = maximo\n",
    "Temps = {**nuevo, **conocidas}\n",
    "#Actualización de la base de datos nodales\n",
    "con = sql.connect('App/data.db')\n",
    "for i in range(len(nodos)):\n",
    "    if nodos[i][4] is None:\n",
    "        con.execute(\"UPDATE nodes SET T =\" + str(Temps[Ts[i]]) + \" WHERE ID =\" + str(i+1))\n",
    "nodos = con.execute(\"SELECT * FROM nodes ORDER BY ID ASC\").fetchall()\n",
    "con.close()\n",
    "Temps"
   ]
  },
  {
   "cell_type": "code",
   "execution_count": null,
   "metadata": {},
   "outputs": [],
   "source": [
    "nodos"
   ]
  },
  {
   "cell_type": "markdown",
   "metadata": {},
   "source": [
    "### __3.3. Postprocesamiento__\n",
    "\n",
    "<div align=\"justify\">\n",
    "    La distribución de temperatura se puede apreciar a continuación.\n",
    "</div>"
   ]
  },
  {
   "cell_type": "code",
   "execution_count": 24,
   "metadata": {},
   "outputs": [
    {
     "data": {
      "text/plain": [
       "array([ 0.        ,  0.        ,  0.        ,  1.66666667,  1.66666667,\n",
       "        1.66666667,  1.66666667,  1.66666667,  5.        ,  5.        ,\n",
       "        5.        ,  5.        ,  5.        ,  8.33333333,  8.33333333,\n",
       "        8.33333333,  8.33333333,  8.33333333, 10.        , 10.        ,\n",
       "       10.        ])"
      ]
     },
     "execution_count": 24,
     "metadata": {},
     "output_type": "execute_result"
    },
    {
     "data": {
      "image/png": "[encoded data removed]",
      "text/plain": [
       "<Figure size 1152x164.571 with 2 Axes>"
      ]
     },
     "metadata": {
      "needs_background": "light"
     },
     "output_type": "display_data"
    }
   ],
   "source": [
    "%matplotlib inline\n",
    "import numpy as np\n",
    "import matplotlib.pyplot as plt\n",
    "\n",
    "X, Y, T = [], [], []\n",
    "for nodo in nodos:\n",
    "    X.append(nodo[2])\n",
    "    Y.append(nodo[3])\n",
    "    T.append(nodo[4])\n",
    "plt.matshow([np.array(X),np.array(Y), np.array(T)], cmap=plt.cm.get_cmap('jet'), \n",
    "                vmin=data['Propiedades']['T_{infty}']['Valor'], vmax=data['Propiedades']['T_0']['Valor'])\n",
    "plt.colorbar()\n",
    "np.array(X)"
   ]
  },
  {
   "cell_type": "code",
   "execution_count": null,
   "metadata": {},
   "outputs": [],
   "source": [
    "%matplotlib inline\n",
    "import numpy as np\n",
    "import matplotlib.pyplot as plt\n",
    "X, Y, T = [], [], [[] for i in range(len(nodos))]\n",
    "for nodo in nodos:\n",
    "    X.append(nodo[2])\n",
    "    Y.append(nodo[3])\n",
    "    for i in range(len(T)):\n",
    "        T[i].append(nodo[4])\n",
    "X, Y = np.meshgrid(X, Y,)\n",
    "fig, ax = plt.subplots(1,1)\n",
    "ax.pcolormesh(X,Y,np.array(T), cmap='RdBu')\n"
   ]
  },
  {
   "cell_type": "code",
   "execution_count": null,
   "metadata": {},
   "outputs": [],
   "source": [
    "import plotly.graph_objects as go\n",
    "fig = go.Figure(data=[\n",
    "    go.Mesh3d(\n",
    "        # 8 vertices of a cube\n",
    "        x=[0, 0, data['Geometría']['W']['Valor'], data['Geometría']['W']['Valor'], 0, 0, data['Geometría']['W']['Valor'], data['Geometría']['W']['Valor']],\n",
    "        y=[0, data['Geometría']['H']['Valor'], data['Geometría']['H']['Valor'], 0, 0, data['Geometría']['H']['Valor'], data['Geometría']['H']['Valor'], 0],\n",
    "        z=[0, 0, 0, 0,0,0,0,0],\n",
    "        colorbar_title='z',\n",
    "        colorscale=[[0, 'gold'],\n",
    "                    [0.5, 'mediumturquoise'],\n",
    "                    [1, 'magenta']],\n",
    "        # Intensity of each vertex, which will be interpolated and color-coded\n",
    "        intensity = np.linspace(0, 1, 9, endpoint=True),\n",
    "        # i, j and k give the vertices of triangles\n",
    "        i = [3],\n",
    "        j = [2],\n",
    "        k = [0],\n",
    "        name='y',\n",
    "        showscale=True\n",
    "    )\n",
    "])\n",
    "fig.show()"
   ]
  },
  {
   "cell_type": "code",
   "execution_count": null,
   "metadata": {},
   "outputs": [],
   "source": [
    "#Inicialización de la matriz\n",
    "M = []\n",
    "for i in range(len(nodos)):\n",
    "    vec = []\n",
    "    for j in range(len(nodos)):\n",
    "        vec.append(0)\n",
    "    M.append(vec)\n",
    "for i in range(len(nodos)):\n",
    "    M[i][i] = solve(Ecuaciones[i], Ts[i])[0]\n",
    "SM = Matrix(M)\n",
    "SM"
   ]
  },
  {
   "cell_type": "markdown",
   "metadata": {},
   "source": [
    "Con la matriz simbólica podemos calcular los eigenvalores y eigenvectores."
   ]
  },
  {
   "cell_type": "code",
   "execution_count": null,
   "metadata": {},
   "outputs": [],
   "source": [
    "#SM.eigenvals()"
   ]
  },
  {
   "cell_type": "code",
   "execution_count": null,
   "metadata": {},
   "outputs": [],
   "source": [
    "ElData.result"
   ]
  },
  {
   "cell_type": "code",
   "execution_count": null,
   "metadata": {},
   "outputs": [],
   "source": [
    "ec = Eq(2*Ts[0] + Ts[1], 5*Ts[4])\n",
    "sol = solve(ec, Ts[1])\n",
    "sol"
   ]
  }
 ],
 "metadata": {
  "kernelspec": {
   "display_name": "Python 3",
   "language": "python",
   "name": "python3"
  },
  "language_info": {
   "codemirror_mode": {
    "name": "ipython",
    "version": 3
   },
   "file_extension": ".py",
   "mimetype": "text/x-python",
   "name": "python",
   "nbconvert_exporter": "python",
   "pygments_lexer": "ipython3",
   "version": "3.7.4"
  }
 },
 "nbformat": 4,
 "nbformat_minor": 4
}
