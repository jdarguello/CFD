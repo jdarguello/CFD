{
 "cells": [
  {
   "cell_type": "markdown",
   "metadata": {},
   "source": [
    "<div align=\"center\">\n",
    "    <h1><strong>Transferencia de Calor 2D</strong></h1>\n",
    "    <h2>Juan David Argüello Plata</h2>\n",
    "    <img src=\"Images/uis.png\" style=\"width: 300px;\" />\n",
    "</div>\n",
    "\n",
    "## __LÉEME__\n",
    "\n",
    "<div align=\"justify\">\n",
    "    Antes de iniciar a leer y analizar el presente trabajo, ten en cuenta que debes <strong>esperar</strong> a que termine de cargar la página web.\n",
    "</div>\n",
    "\n",
    "<div align=\"center\">\n",
    "    <img src=\"Images/binder.PNG\" style=\"width: 450px;\" />\n",
    "</div>\n",
    "<div align=\"center\">\n",
    "    <i>Figura 0.</i> Página inicial <i>binder</i>.\n",
    "</div>\n",
    "\n",
    "<div align=\"justify\">\n",
    "    Una vez <i>desaparezca</i> la página de carga (Figura 0), recuerda que los bloques de código los puedes ejecutar con el siguiente comando:\n",
    "</div>\n",
    "\n",
    "``\n",
    "CTRL + ENTER\n",
    "``\n",
    "\n",
    "## __1. Planteamiento del Problema__\n",
    "\n",
    "<div align=\"justify\">\n",
    "    Se busca analizar, mediante métodos <i>analíticos</i> y <i>numéricos</i>, la transferencia de calor de la barra mostrada en la Figura 1.\n",
    "</div>\n",
    "\n",
    "<br>\n",
    "\n",
    "<div align=\"center\">\n",
    "    <img src=\"Images/Esquema_3D/Esquema.PNG\" style=\"width: 500px;\" />\n",
    "</div>\n",
    "\n",
    "<div align=\"center\">\n",
    "    <i>Figura 1.</i> Geometría del problema.\n",
    "</div>\n",
    "\n",
    "<div align=\"justify\">\n",
    "    Se toman las siguientes suposiciones:\n",
    "</div>\n",
    "\n",
    "* Conductividad térmica constante.\n",
    "* Conducción 2D.\n",
    "* Generación de calor por unidad de volumen constante.\n",
    "* Conducción estable (no transitoria).\n",
    "\n",
    "<div align=\"justify\">\n",
    "    Los datos del problema se pueden especificar a continuación.\n",
    "</div>"
   ]
  },
  {
   "cell_type": "code",
   "execution_count": 2,
   "metadata": {},
   "outputs": [
    {
     "data": {
      "text/html": [
       "$W= 10m$"
      ],
      "text/plain": [
       "<IPython.core.display.HTML object>"
      ]
     },
     "metadata": {},
     "output_type": "display_data"
    },
    {
     "data": {
      "text/html": [
       "$H= 10m$"
      ],
      "text/plain": [
       "<IPython.core.display.HTML object>"
      ]
     },
     "metadata": {},
     "output_type": "display_data"
    },
    {
     "data": {
      "text/html": [
       "$E= 1m$"
      ],
      "text/plain": [
       "<IPython.core.display.HTML object>"
      ]
     },
     "metadata": {},
     "output_type": "display_data"
    },
    {
     "data": {
      "text/html": [
       "$T_0= 373K$"
      ],
      "text/plain": [
       "<IPython.core.display.HTML object>"
      ]
     },
     "metadata": {},
     "output_type": "display_data"
    },
    {
     "data": {
      "text/html": [
       "$T_{infty}= 273K$"
      ],
      "text/plain": [
       "<IPython.core.display.HTML object>"
      ]
     },
     "metadata": {},
     "output_type": "display_data"
    },
    {
     "data": {
      "text/html": [
       "$K= 55W/m \\, K$"
      ],
      "text/plain": [
       "<IPython.core.display.HTML object>"
      ]
     },
     "metadata": {},
     "output_type": "display_data"
    },
    {
     "data": {
      "text/html": [
       "$h= 10W/m^2 \\, °C$"
      ],
      "text/plain": [
       "<IPython.core.display.HTML object>"
      ]
     },
     "metadata": {},
     "output_type": "display_data"
    },
    {
     "data": {
      "text/html": [
       "$Q_g= 100W/m^3$"
      ],
      "text/plain": [
       "<IPython.core.display.HTML object>"
      ]
     },
     "metadata": {},
     "output_type": "display_data"
    }
   ],
   "source": [
    "data = {\n",
    "    'Geometría': {\n",
    "        'W': {\n",
    "            'Valor':10,\n",
    "            'Units': 'm'\n",
    "        },\n",
    "        'H': {\n",
    "            'Valor': 10,\n",
    "            'Units': 'm'\n",
    "        },\n",
    "        'E': {\n",
    "            'Valor': 1,\n",
    "            'Units': 'm'\n",
    "        }\n",
    "    },\n",
    "    'Propiedades': {\n",
    "        'T_0': {\n",
    "            'Valor': 100+273,\n",
    "            'Units': 'K'\n",
    "        },\n",
    "        'T_{infty}': {\n",
    "            'Valor': 0+273,\n",
    "            'Units': 'K'\n",
    "        },\n",
    "        'K': {\n",
    "            'Valor': 55,\n",
    "            'Units': 'W/m \\, K'\n",
    "        },\n",
    "        'h': {\n",
    "            'Valor': 10,\n",
    "            'Units': 'W/m^2 \\, °C'\n",
    "        },\n",
    "        'Q_g': {\n",
    "            'Valor': 100,\n",
    "            'Units': 'W/m^3'\n",
    "        }\n",
    "    }\n",
    "}\n",
    "\n",
    "from IPython.display import HTML, display\n",
    "for c in data:\n",
    "    for d in data[c]: \n",
    "        text = '$' + d + '= ' + str(data[c][d]['Valor']) + '' + data[c][d]['Units'] + '$'\n",
    "        display(HTML(text))"
   ]
  },
  {
   "cell_type": "code",
   "execution_count": 3,
   "metadata": {},
   "outputs": [
    {
     "name": "stdout",
     "output_type": "stream",
     "text": [
      "IPython console for SymPy 1.4 (Python 3.7.4-32-bit) (ground types: python)\n",
      "\n",
      "These commands were executed:\n",
      ">>> from __future__ import division\n",
      ">>> from sympy import *\n",
      ">>> x, y, z, t = symbols('x y z t')\n",
      ">>> k, m, n = symbols('k m n', integer=True)\n",
      ">>> f, g, h = symbols('f g h', cls=Function)\n",
      ">>> init_printing()\n",
      "\n",
      "Documentation can be found at https://docs.sympy.org/1.4/\n",
      "\n"
     ]
    }
   ],
   "source": [
    "from sympy import init_session\n",
    "init_session(use_latex=True)"
   ]
  },
  {
   "cell_type": "markdown",
   "metadata": {},
   "source": [
    "## __2. Mallado__\n",
    "\n",
    "<div align=\"justify\">\n",
    "    Se inicia realizando la discretización del dominio.\n",
    "</div>"
   ]
  },
  {
   "cell_type": "code",
   "execution_count": 4,
   "metadata": {},
   "outputs": [
    {
     "data": {
      "application/vnd.jupyter.widget-view+json": {
       "model_id": "ebc24648447c4d21b36fafc704232f18",
       "version_major": 2,
       "version_minor": 0
      },
      "text/plain": [
       "interactive(children=(IntSlider(value=3, description='xsub', max=11, min=3), IntSlider(value=3, description='y…"
      ]
     },
     "metadata": {},
     "output_type": "display_data"
    }
   ],
   "source": [
    "%matplotlib inline\n",
    "from App.Preprocessing.Mesh import Malla\n",
    "import sqlite3 as sql\n",
    "from ipywidgets import *\n",
    "def Mesh(xsub,ysub, numN = False):\n",
    "    Malla((data['Geometría']['W']['Valor']/xsub,\n",
    "           data['Geometría']['H']['Valor']/ysub),\n",
    "           (data['Propiedades']['T_0']['Valor'],\n",
    "            data['Propiedades']['T_{infty}']['Valor']),\n",
    "           False,\n",
    "           (numN, False),\n",
    "           data['Geometría'])\n",
    "    #Conexión con base de datos\n",
    "    con = sql.connect('App/data.db')\n",
    "    text = [\"SELECT * FROM \", \" ORDER BY \", \" DESC LIMIT 1\"]\n",
    "    n =  con.execute(text[0]+' nodes '+text[1]+' NodeID '+text[2]).fetchall()\n",
    "    el = con.execute(text[0]+' elements '+text[1]+' ElID '+text[2]).fetchall()\n",
    "    con.close()\n",
    "    display(HTML(\"Número de nodos: \" + str(n[0][0])))\n",
    "    display(HTML(\"Número de elementos: \" + str(el[0][0])))\n",
    "    return data['Geometría']['W']['Valor']/xsub, data['Geometría']['H']['Valor']/ysub, xsub, ysub\n",
    "ElData = interactive(Mesh,\n",
    "                     xsub=IntSlider(value=3, max=11, min=3),\n",
    "                     ysub=IntSlider(value=3, max=11, min=3),\n",
    "                     numN = False, \n",
    "                     continous_update=False)\n",
    "display(ElData)"
   ]
  },
  {
   "cell_type": "markdown",
   "metadata": {},
   "source": [
    "## __3. Solver__\n",
    "\n",
    "<div align=\"justify\">\n",
    "    El planteamiento matricial se desarrolla con base en las siguietes relaciones matemáticas:\n",
    "    $$\n",
    "    \\begin{equation}\n",
    "        a_p T_p = a_E T_E + a_W T_W + a_N T_N + a_S T_S + Q_g \\Delta x \\Delta y\n",
    "        \\tag{3}\n",
    "        \\label{Ts}\n",
    "    \\end{equation}\n",
    "    $$\n",
    "    Dónde $b$ es la generación de calor y: \n",
    "    $$\n",
    "    \\begin{equation}\n",
    "        a_p = a_E + a_W + a_N + a_S \\\\\n",
    "        a_E = K \\frac{\\Delta y}{\\delta x} \\\\\n",
    "        a_W = K \\frac{\\Delta y}{\\delta x} \\\\\n",
    "        a_N = K \\frac{\\Delta x}{\\delta y} \\\\\n",
    "        a_S = K \\frac{\\Delta x}{\\delta y}\n",
    "    \\end{equation}\n",
    "    $$\n",
    "    Para la malla mostrada anteriormente, el sistema de ecuaciones general es el siguiente:\n",
    "</div>"
   ]
  },
  {
   "cell_type": "code",
   "execution_count": null,
   "metadata": {},
   "outputs": [
    {
     "data": {
      "image/png": "[encoded data removed]",
      "text/latex": [
       "$\\displaystyle \\left[ T_{1} = 273.0, \\  T_{2} = 273.0, \\  T_{3} = 273.0, \\  T_{4} = 273.0, \\  T_{5} a_{p} = Q_{g} \\Delta  x \\Delta  y + T_{1} a_{W} + T_{10} a_{E} + T_{4} a_{S} + T_{6} a_{N}, \\  T_{6} a_{p} = Q_{g} \\Delta  x \\Delta  y + T_{11} a_{E} + T_{2} a_{W} + T_{5} a_{S} + T_{7} a_{N}, \\  T_{7} a_{p} = Q_{g} \\Delta  x \\Delta  y + T_{12} a_{E} + T_{3} a_{W} + T_{6} a_{S} + T_{8} a_{N}, \\  T_{8} = 373.0, \\  T_{9} = 273.0, \\  T_{10} a_{p} = Q_{g} \\Delta  x \\Delta  y + T_{11} a_{N} + T_{15} a_{E} + T_{5} a_{W} + T_{9} a_{S}, \\  T_{11} a_{p} = Q_{g} \\Delta  x \\Delta  y + T_{10} a_{S} + T_{12} a_{N} + T_{16} a_{E} + T_{6} a_{W}, \\  T_{12} a_{p} = Q_{g} \\Delta  x \\Delta  y + T_{11} a_{S} + T_{13} a_{N} + T_{17} a_{E} + T_{7} a_{W}, \\  T_{13} = 373.0, \\  T_{14} = 273.0, \\  T_{15} a_{p} = Q_{g} \\Delta  x \\Delta  y + T_{10} a_{W} + T_{14} a_{S} + T_{16} a_{N} + T_{19} a_{E}, \\  T_{16} a_{p} = Q_{g} \\Delta  x \\Delta  y + T_{11} a_{W} + T_{15} a_{S} + T_{17} a_{N} + T_{20} a_{E}, \\  T_{17} a_{p} = Q_{g} \\Delta  x \\Delta  y + T_{12} a_{W} + T_{16} a_{S} + T_{18} a_{N} + T_{21} a_{E}, \\  T_{18} = 373.0, \\  T_{19} = 273.0, \\  T_{20} = 273.0, \\  T_{21} = 273.0\\right]$"
      ],
      "text/plain": [
       "[T₁ = 273.0, T₂ = 273.0, T₃ = 273.0, T₄ = 273.0, T₅⋅aₚ = Q_g⋅\\Delta  x⋅\\Delta \n",
       " y + T₁⋅a_W + T₁₀⋅a_E + T₄⋅a_S + T₆⋅a_N, T₆⋅aₚ = Q_g⋅\\Delta  x⋅\\Delta  y + T₁₁\n",
       "⋅a_E + T₂⋅a_W + T₅⋅a_S + T₇⋅a_N, T₇⋅aₚ = Q_g⋅\\Delta  x⋅\\Delta  y + T₁₂⋅a_E + T\n",
       "₃⋅a_W + T₆⋅a_S + T₈⋅a_N, T₈ = 373.0, T₉ = 273.0, T₁₀⋅aₚ = Q_g⋅\\Delta  x⋅\\Delta\n",
       "  y + T₁₁⋅a_N + T₁₅⋅a_E + T₅⋅a_W + T₉⋅a_S, T₁₁⋅aₚ = Q_g⋅\\Delta  x⋅\\Delta  y + \n",
       "T₁₀⋅a_S + T₁₂⋅a_N + T₁₆⋅a_E + T₆⋅a_W, T₁₂⋅aₚ = Q_g⋅\\Delta  x⋅\\Delta  y + T₁₁⋅a\n",
       "_S + T₁₃⋅a_N + T₁₇⋅a_E + T₇⋅a_W, T₁₃ = 373.0, T₁₄ = 273.0, T₁₅⋅aₚ = Q_g⋅\\Delta\n",
       "  x⋅\\Delta  y + T₁₀⋅a_W + T₁₄⋅a_S + T₁₆⋅a_N + T₁₉⋅a_E, T₁₆⋅aₚ = Q_g⋅\\Delta  x⋅\n",
       "\\Delta  y + T₁₁⋅a_W + T₁₅⋅a_S + T₁₇⋅a_N + T₂₀⋅a_E, T₁₇⋅aₚ = Q_g⋅\\Delta  x⋅\\Del\n",
       "ta  y + T₁₂⋅a_W + T₁₆⋅a_S + T₁₈⋅a_N + T₂₁⋅a_E, T₁₈ = 373.0, T₁₉ = 273.0, T₂₀ =\n",
       " 273.0, T₂₁ = 273.0]"
      ]
     },
     "execution_count": 5,
     "metadata": {},
     "output_type": "execute_result"
    }
   ],
   "source": [
    "#Lectura de la base de datos\n",
    "con = sql.connect('App/data.db')\n",
    "nodos = con.execute(\"SELECT * FROM nodes ORDER BY ID ASC\").fetchall()\n",
    "elementos = con.execute(\"SELECT * FROM elements ORDER BY p ASC\").fetchall()\n",
    "con.close()\n",
    "#Símbolos\n",
    "Ts = symbols(\"T_1:\" + str(len(nodos)+1))\n",
    "a_p, a_E, a_W, a_S, a_N, Q_g = symbols(\"a_p, a_E, a_W, a_S, a_N, Q_g\")\n",
    "Dx, Dy, dx, dy = Symbol(\"\\\\Delta  x\"), Symbol(\"\\\\Delta  y\"), Symbol(\"\\\\delta  x\"), Symbol(\"\\\\delta  y\")\n",
    "#Planteamiento de ecuaciones y suposiciones\n",
    "Ecuaciones = []\n",
    "sol = {}\n",
    "conocidas = {}\n",
    "suma = 0\n",
    "for i in range(len(nodos)):\n",
    "    if nodos[i][-1] is None:\n",
    "        Ec = Eq(a_p*Ts[elementos[suma][3]-1],a_E*Ts[elementos[suma][4]-1]+\\\n",
    "                a_W*Ts[elementos[suma][5]-1]+a_N*Ts[elementos[suma][1]-1]+\\\n",
    "                a_S*Ts[elementos[suma][2]-1]+Q_g*Dx*Dy)\n",
    "        sol[Ts[elementos[suma][3]-1]] = solve(Ec, Ts[elementos[suma][3]-1])[0]\n",
    "        suma += 1\n",
    "    else:\n",
    "        Ec = Eq(Ts[i], nodos[i][-1])\n",
    "        conocidas[Ts[i]] = solve(Ec)[0]\n",
    "    Ecuaciones.append(Ec)\n",
    "sup = {}\n",
    "for el in elementos:\n",
    "    sup[Ts[el[3]-1]] = 0\n",
    "Ecuaciones"
   ]
  },
  {
   "cell_type": "markdown",
   "metadata": {},
   "source": [
    "Despejando las ecuaciones, se tiene:"
   ]
  },
  {
   "cell_type": "code",
   "execution_count": null,
   "metadata": {},
   "outputs": [],
   "source": [
    "sol"
   ]
  },
  {
   "cell_type": "markdown",
   "metadata": {},
   "source": [
    "### 3.1. Solución mediante _Gauss - Seidel_\n",
    "\n",
    "<div align=\"justify\">\n",
    "    <i> Gauss - Seidel</i> plantea una metodología de solución y comprobación iterativa. Se parte de la solución \"trivial\" como punto de partida.\n",
    "</div>"
   ]
  },
  {
   "cell_type": "code",
   "execution_count": null,
   "metadata": {},
   "outputs": [],
   "source": [
    "sup"
   ]
  },
  {
   "cell_type": "markdown",
   "metadata": {},
   "source": [
    "Reemplazando los datos correspondientes, se obtiene..."
   ]
  },
  {
   "cell_type": "code",
   "execution_count": null,
   "metadata": {},
   "outputs": [],
   "source": [
    "#Variables\n",
    "var = {}\n",
    "var['Q_g'], var['K'] = data['Propiedades']['Q_g']['Valor'], data['Propiedades']['K']['Valor']\n",
    "var['Dx'], var['Dy'], nodosx, nodosy = ElData.result\n",
    "nodosx += 2\n",
    "nodosy += 2\n",
    "#a's\n",
    "for a in ['a_E', 'a_W']:\n",
    "    var[a] = var['K']*(var['Dy']/var['Dx'])\n",
    "for a in ['a_S', 'a_N']:\n",
    "    var[a] = var['K']*(var['Dx']/var['Dy'])\n",
    "var['a_p'] = 0    #Es 0 porque es conducción pura, rho*u (densidad por velocidad)\n",
    "for a in ['a_E', 'a_W', 'a_S', 'a_N']:\n",
    "    var['a_p'] += var[a]\n",
    "#Diccionario de variables\n",
    "var_sup = {}\n",
    "for key in [Q_g, a_E, a_W, a_S, a_N, a_p]:\n",
    "    var_sup[key] = var[f\"{key}\"]\n",
    "var_sup[Dx], var_sup[Dy] = var['Dx'], var['Dy']\n",
    "#Reemplazar\n",
    "solution = {}\n",
    "protected = frozenset(sol.items())\n",
    "for s in sol:\n",
    "    solution[s] = dict(protected)[s].subs(var_sup)\n",
    "    solution[s] = solution[s].subs(conocidas)\n",
    "solution"
   ]
  },
  {
   "cell_type": "code",
   "execution_count": null,
   "metadata": {},
   "outputs": [],
   "source": [
    "var_sup"
   ]
  },
  {
   "cell_type": "markdown",
   "metadata": {},
   "source": [
    "Ahora, se desarrolla el procedimiento iterativo. Se plantea un criterio de convergencia que defina la _culminación_ del proceso de cálculo."
   ]
  },
  {
   "cell_type": "code",
   "execution_count": null,
   "metadata": {},
   "outputs": [],
   "source": [
    "from IPython.display import HTML, display\n",
    "con.close()\n",
    "#----Criterio de convergencia----\n",
    "CC = 0.01\n",
    "max_it = 20    #Número máximo de iteraciones\n",
    "\n",
    "#--Solución mediante Gauss - Seidel--\n",
    "criterion = 1.1\n",
    "it = 0\n",
    "protected = frozenset(solution.items())\n",
    "protected_sup = frozenset(sup.items())\n",
    "while True:\n",
    "    if criterion <= CC or it >= max_it:\n",
    "        display(HTML(\"Iteración número $\" + str(it) + \"$. Máximo valor de error: $\" \\\n",
    "                     + str(round(criterion*100,2)) + \"\\%$\"))\n",
    "        break\n",
    "    it += 1\n",
    "    if it == 1:\n",
    "        viejo = dict(protected_sup)\n",
    "    #Reemplaza con valores anteriores\n",
    "    nuevo = {}\n",
    "    maximo = -1\n",
    "    T_max = data['Propiedades']['T_{infty}']['Valor']\n",
    "    for key in sol:\n",
    "        nuevo[key] = dict(protected)[key].subs(viejo)\n",
    "        porcentaje = abs((nuevo[key]-viejo[key])/nuevo[key])\n",
    "        viejo[key] = nuevo[key]\n",
    "        if T_max < nuevo[key]:\n",
    "            T_max = nuevo[key]\n",
    "        if maximo < porcentaje:\n",
    "            maximo = porcentaje\n",
    "    criterion = maximo\n",
    "Temps = {**nuevo, **conocidas}\n",
    "#Actualización de la base de datos nodales\n",
    "con = sql.connect('App/data.db')\n",
    "for i in range(len(nodos)):\n",
    "    if nodos[i][4] is None:\n",
    "        con.execute(\"UPDATE nodes SET T =\" + str(Temps[Ts[i]]) + \" WHERE ID =\" + str(i+1))\n",
    "nodos = con.execute(\"SELECT * FROM nodes ORDER BY ID ASC\").fetchall()\n",
    "con.close()\n",
    "Temps"
   ]
  },
  {
   "cell_type": "markdown",
   "metadata": {},
   "source": [
    "## __4. Postprocesamiento__\n",
    "\n",
    "<div align=\"justify\">\n",
    "    La distribución de temperatura se puede apreciar a continuación.\n",
    "</div>"
   ]
  },
  {
   "cell_type": "code",
   "execution_count": null,
   "metadata": {},
   "outputs": [],
   "source": [
    "import numpy as np\n",
    "Temp = []\n",
    "for nodo in nodos:\n",
    "    if nodo[4] != data['Propiedades']['T_{infty}']['Valor'] and nodo[4] != data['Propiedades']['T_0']['Valor']:\n",
    "        Temp.append(nodo[4])\n",
    "#Valores de frontera\n",
    "T = np.zeros((nodosx, nodosy))\n",
    "for i in range(nodosx):\n",
    "    for j in range(nodosy):\n",
    "        if j == nodosy-1 or j == 0 or i == nodosx-1:\n",
    "            T[i][j] = data['Propiedades']['T_{infty}']['Valor']\n",
    "        if i == 0:\n",
    "            T[i][j] = data['Propiedades']['T_0']['Valor']\n",
    "k = 0\n",
    "#Resultados intermedios\n",
    "for j in range(nodosy-1,-1,-1):\n",
    "    for i in range(nodosx-1,-1,-1):\n",
    "        if T[i][j] == 0:\n",
    "            T[i][j] = Temp[k]\n",
    "            k += 1\n",
    "plt.figure(figsize=(8,8))\n",
    "plt.matshow(T, cmap=plt.cm.get_cmap('jet'), fignum=1)"
   ]
  }
 ],
 "metadata": {
  "kernelspec": {
   "display_name": "Python 3",
   "language": "python",
   "name": "python3"
  },
  "language_info": {
   "codemirror_mode": {
    "name": "ipython",
    "version": 3
   },
   "file_extension": ".py",
   "mimetype": "text/x-python",
   "name": "python",
   "nbconvert_exporter": "python",
   "pygments_lexer": "ipython3",
   "version": "3.7.4"
  }
 },
 "nbformat": 4,
 "nbformat_minor": 4
}
